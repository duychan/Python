{
 "cells": [
  {
   "cell_type": "markdown",
   "metadata": {},
   "source": [
    "## Bài tập 1:"
   ]
  },
  {
   "cell_type": "code",
   "execution_count": 2294,
   "metadata": {},
   "outputs": [],
   "source": [
    "import pandas as pd\n",
    "import numpy as np"
   ]
  },
  {
   "cell_type": "markdown",
   "metadata": {},
   "source": [
    "##### Đọc dataset"
   ]
  },
  {
   "cell_type": "code",
   "execution_count": 2295,
   "metadata": {},
   "outputs": [
    {
     "data": {
      "text/html": [
       "<div>\n",
       "<style scoped>\n",
       "    .dataframe tbody tr th:only-of-type {\n",
       "        vertical-align: middle;\n",
       "    }\n",
       "\n",
       "    .dataframe tbody tr th {\n",
       "        vertical-align: top;\n",
       "    }\n",
       "\n",
       "    .dataframe thead th {\n",
       "        text-align: right;\n",
       "    }\n",
       "</style>\n",
       "<table border=\"1\" class=\"dataframe\">\n",
       "  <thead>\n",
       "    <tr style=\"text-align: right;\">\n",
       "      <th></th>\n",
       "      <th>survived</th>\n",
       "      <th>age</th>\n",
       "      <th>fare</th>\n",
       "    </tr>\n",
       "  </thead>\n",
       "  <tbody>\n",
       "    <tr>\n",
       "      <th>0</th>\n",
       "      <td>0</td>\n",
       "      <td>22.0</td>\n",
       "      <td>7.2500</td>\n",
       "    </tr>\n",
       "    <tr>\n",
       "      <th>1</th>\n",
       "      <td>1</td>\n",
       "      <td>38.0</td>\n",
       "      <td>71.2833</td>\n",
       "    </tr>\n",
       "    <tr>\n",
       "      <th>2</th>\n",
       "      <td>1</td>\n",
       "      <td>26.0</td>\n",
       "      <td>7.9250</td>\n",
       "    </tr>\n",
       "    <tr>\n",
       "      <th>3</th>\n",
       "      <td>1</td>\n",
       "      <td>35.0</td>\n",
       "      <td>53.1000</td>\n",
       "    </tr>\n",
       "    <tr>\n",
       "      <th>4</th>\n",
       "      <td>0</td>\n",
       "      <td>35.0</td>\n",
       "      <td>8.0500</td>\n",
       "    </tr>\n",
       "  </tbody>\n",
       "</table>\n",
       "</div>"
      ],
      "text/plain": [
       "   survived   age     fare\n",
       "0         0  22.0   7.2500\n",
       "1         1  38.0  71.2833\n",
       "2         1  26.0   7.9250\n",
       "3         1  35.0  53.1000\n",
       "4         0  35.0   8.0500"
      ]
     },
     "execution_count": 2295,
     "metadata": {},
     "output_type": "execute_result"
    }
   ],
   "source": [
    "data = pd.read_csv('titanic.csv',usecols=['age','fare','survived'])\n",
    "data.head()"
   ]
  },
  {
   "cell_type": "markdown",
   "metadata": {},
   "source": [
    "##### Kiểm tra dữ liệu rỗng"
   ]
  },
  {
   "cell_type": "code",
   "execution_count": 2296,
   "metadata": {},
   "outputs": [
    {
     "data": {
      "text/plain": [
       "survived      0\n",
       "age         177\n",
       "fare          0\n",
       "dtype: int64"
      ]
     },
     "execution_count": 2296,
     "metadata": {},
     "output_type": "execute_result"
    }
   ],
   "source": [
    "data.isnull().sum()"
   ]
  },
  {
   "cell_type": "markdown",
   "metadata": {},
   "source": [
    "###### NHẬN XÉT: Biến [AGE] có 177 trường rỗng & [Fare] không có trường rỗng"
   ]
  },
  {
   "cell_type": "markdown",
   "metadata": {},
   "source": [
    "### 7 kĩ thuật xử lí dữ liệu trống"
   ]
  },
  {
   "cell_type": "code",
   "execution_count": 2297,
   "metadata": {},
   "outputs": [],
   "source": [
    "# Median\n",
    "myMedian = data.copy()\n",
    "median = myMedian['age'].median()\n",
    "myMedian['age'] = myMedian['age'].fillna(median)\n",
    "\n",
    "# Mean\n",
    "myMean = data.copy()\n",
    "mean = myMean['age'].median()\n",
    "myMean['age'] = myMean['age'].fillna(mean)\n",
    "\n",
    "# Mode imputation\n",
    "myMode = data.copy()\n",
    "mode = myMode['age'].mode()\n",
    "myMode['age'] = myMode['age'].fillna(mode)\n",
    "\n",
    "# Random\n",
    "myRand = data.copy()\n",
    "random_samples = myRand['age'].dropna().sample(n=myRand['age'].isnull().sum(),random_state=0)\n",
    "random_samples.index = myRand[myRand['age'].isnull()].index\n",
    "myRand.loc[data['age'].isnull(), 'age'] = random_samples\n",
    "\n",
    "# Đuôi phân bố\n",
    "myLast = data.copy()\n",
    "extreme = myLast[\"age\"].mean() + 3 * myLast[\"age\"].std()\n",
    "myLast[\"age\"] = myLast[\"age\"].fillna(extreme)\n",
    "\n",
    "# Tạo giá trị bất kì\n",
    "myAnyVal = data.copy()\n",
    "myAnyVal[\"age\"] = myAnyVal[\"age\"].fillna(24)\n",
    "\n",
    "# Tạo đặc trưng mới\n",
    "myNewVar = data.copy()\n",
    "myNewVar['age_NAN'] = np.where(myNewVar['age'].isnull(), 1, 0)\n",
    "myNewVar[\"age\"].fillna(myNewVar[\"age\"].median(), inplace=True)"
   ]
  },
  {
   "cell_type": "code",
   "execution_count": 2298,
   "metadata": {},
   "outputs": [],
   "source": [
    "before = [myMedian, myMedian, myMode, myRand, myLast, myAnyVal, myNewVar]"
   ]
  },
  {
   "cell_type": "markdown",
   "metadata": {},
   "source": [
    "### Xử lí ngoại lệ"
   ]
  },
  {
   "cell_type": "code",
   "execution_count": 2299,
   "metadata": {},
   "outputs": [
    {
     "name": "stdout",
     "output_type": "stream",
     "text": [
      "[-13.880374349943303, 73.27860964406094]\n"
     ]
    }
   ],
   "source": [
    "data_inline = data.copy() ## clone data de so sanh\n",
    "# age (phân bố chuẩn)\n",
    "upper_age = data['age'].mean() + 3 * data['age'].std()\n",
    "lower_age = data['age'].mean() - 3 * data['age'].std()\n",
    "print([lower_age, upper_age])\n",
    "\n"
   ]
  },
  {
   "cell_type": "code",
   "execution_count": 2300,
   "metadata": {},
   "outputs": [
    {
     "name": "stdout",
     "output_type": "stream",
     "text": [
      "[-61.358399999999996, 100.2688]\n"
     ]
    }
   ],
   "source": [
    "#fare (phân bố lệch)\n",
    "IQR = data[\"fare\"].quantile(0.75) - data[\"fare\"].quantile(0.25)\n",
    "lower_fare = data['fare'].quantile(0.25) - 3 * IQR\n",
    "upper_fare = data['fare'].quantile(0.75) + 3 * IQR\n",
    "print([lower_fare, upper_fare])"
   ]
  },
  {
   "cell_type": "code",
   "execution_count": 2301,
   "metadata": {},
   "outputs": [],
   "source": [
    "#### Loại bỏ các giá trị outline\n",
    "data_inline.loc[data_inline['age'] >= 73, 'age'] = 73\n",
    "data_inline.loc[data_inline['fare'] >= 100, 'fare'] = 100\n"
   ]
  },
  {
   "cell_type": "code",
   "execution_count": 2302,
   "metadata": {},
   "outputs": [],
   "source": [
    "# Median\n",
    "myMedian = data_inline.copy()\n",
    "median = myMedian['age'].median()\n",
    "myMedian['age'] = myMedian['age'].fillna(median)\n",
    "\n",
    "# Mean\n",
    "myMean = data_inline.copy()\n",
    "mean = myMean['age'].median()\n",
    "myMean['age'] = myMean['age'].fillna(mean)\n",
    "\n",
    "# Mode imputation\n",
    "myMode = data_inline.copy()\n",
    "mode = myMode['age'].mode()\n",
    "myMode['age'] = myMode['age'].fillna(mode)\n",
    "\n",
    "# Random\n",
    "myRand = data_inline.copy()\n",
    "random_samples = myRand['age'].dropna().sample(n=myRand['age'].isnull().sum(),random_state=0)\n",
    "random_samples.index = myRand[myRand['age'].isnull()].index\n",
    "myRand.loc[data['age'].isnull(), 'age'] = random_samples\n",
    "\n",
    "# Đuôi phân bố\n",
    "myLast = data_inline.copy()\n",
    "extreme = myLast[\"age\"].mean() + 3 * myLast[\"age\"].std()\n",
    "myLast[\"age\"] = myLast[\"age\"].fillna(extreme)\n",
    "\n",
    "# Tạo giá trị bất kì\n",
    "myAnyVal = data_inline.copy()\n",
    "myAnyVal[\"age\"] = myAnyVal[\"age\"].fillna(24)\n",
    "\n",
    "# Tạo đặc trưng mới\n",
    "myNewVar = data_inline.copy()\n",
    "myNewVar['age_NAN'] = np.where(myNewVar['age'].isnull(), 1, 0)\n",
    "myNewVar[\"age\"].fillna(myNewVar[\"age\"].mean(), inplace=True)"
   ]
  },
  {
   "cell_type": "code",
   "execution_count": 2303,
   "metadata": {},
   "outputs": [],
   "source": [
    "after = [myMedian, myMean, myMode, myRand, myLast, myAnyVal, myNewVar]"
   ]
  },
  {
   "cell_type": "markdown",
   "metadata": {},
   "source": [
    "### Logistic Regression"
   ]
  },
  {
   "cell_type": "code",
   "execution_count": 2304,
   "metadata": {},
   "outputs": [],
   "source": [
    "from sklearn.model_selection import train_test_split\n",
    "from sklearn.linear_model import LogisticRegression\n",
    "from sklearn.metrics import accuracy_score\n",
    "def Logistic_Reg(data):\n",
    "    acc_scores = []\n",
    "    for i in range(10):\n",
    "        X_train, X_test, Y_train, Y_test = train_test_split(\n",
    "            data[['age', 'fare']].fillna(0),\n",
    "            data['survived'],test_size=0.3, \n",
    "            random_state=i)\n",
    "        classifier = LogisticRegression()\n",
    "        classifier.fit(X_train, Y_train)\n",
    "        Y_pred = classifier.predict(X_test)\n",
    "        acc_scores.append(accuracy_score(Y_test, Y_pred))\n",
    "    return round(np.mean(acc_scores) * 100, 2)"
   ]
  },
  {
   "cell_type": "markdown",
   "metadata": {},
   "source": [
    "### Chuẩn hoá dữ liệu"
   ]
  },
  {
   "cell_type": "markdown",
   "metadata": {},
   "source": [
    "#### Chuẩn hoá z-score \n"
   ]
  },
  {
   "cell_type": "code",
   "execution_count": 2314,
   "metadata": {},
   "outputs": [
    {
     "data": {
      "text/plain": [
       "'66.64%'"
      ]
     },
     "execution_count": 2314,
     "metadata": {},
     "output_type": "execute_result"
    }
   ],
   "source": [
    "from sklearn.preprocessing import StandardScaler\n",
    "from sklearn.model_selection import cross_validate\n",
    "def zscore_norm(data1):\n",
    "    data2 = data1[['age', 'fare', 'survived']].copy()\n",
    "    scaler = StandardScaler()\n",
    "    data2 = pd.DataFrame(scaler.fit_transform(data2), columns=data2.columns)\n",
    "    data2['survived'] = data1['survived']\n",
    "    return data2\n",
    "\n",
    "str(Logistic_Reg(zscore_norm(myNewVar))) + '%'"
   ]
  },
  {
   "cell_type": "code",
   "execution_count": 2306,
   "metadata": {},
   "outputs": [],
   "source": [
    "col = ['median', 'mean', 'mode', 'random', 'last', 'any_val', 'new_variable']\n",
    "for i in range(7):\n",
    "    before[i] = Logistic_Reg(before[i])\n",
    "    after[i] = Logistic_Reg(after[i])"
   ]
  },
  {
   "cell_type": "markdown",
   "metadata": {},
   "source": [
    "### Bảng thống kê độ độ chính xác của từng cặp ( kĩ thuật - trường hợp ) \n",
    "###### ( Đơn vị % )"
   ]
  },
  {
   "cell_type": "code",
   "execution_count": 2307,
   "metadata": {},
   "outputs": [
    {
     "data": {
      "text/html": [
       "<div>\n",
       "<style scoped>\n",
       "    .dataframe tbody tr th:only-of-type {\n",
       "        vertical-align: middle;\n",
       "    }\n",
       "\n",
       "    .dataframe tbody tr th {\n",
       "        vertical-align: top;\n",
       "    }\n",
       "\n",
       "    .dataframe thead th {\n",
       "        text-align: right;\n",
       "    }\n",
       "</style>\n",
       "<table border=\"1\" class=\"dataframe\">\n",
       "  <thead>\n",
       "    <tr style=\"text-align: right;\">\n",
       "      <th></th>\n",
       "      <th>median</th>\n",
       "      <th>mean</th>\n",
       "      <th>mode</th>\n",
       "      <th>random</th>\n",
       "      <th>last</th>\n",
       "      <th>any_val</th>\n",
       "      <th>new_variable</th>\n",
       "    </tr>\n",
       "  </thead>\n",
       "  <tbody>\n",
       "    <tr>\n",
       "      <th>outliers</th>\n",
       "      <td>65.34</td>\n",
       "      <td>65.34</td>\n",
       "      <td>65.56</td>\n",
       "      <td>65.45</td>\n",
       "      <td>66.38</td>\n",
       "      <td>65.34</td>\n",
       "      <td>65.34</td>\n",
       "    </tr>\n",
       "    <tr>\n",
       "      <th>inliners</th>\n",
       "      <td>66.68</td>\n",
       "      <td>66.68</td>\n",
       "      <td>67.24</td>\n",
       "      <td>66.75</td>\n",
       "      <td>66.72</td>\n",
       "      <td>66.60</td>\n",
       "      <td>66.72</td>\n",
       "    </tr>\n",
       "  </tbody>\n",
       "</table>\n",
       "</div>"
      ],
      "text/plain": [
       "          median   mean   mode  random   last  any_val  new_variable\n",
       "outliers   65.34  65.34  65.56   65.45  66.38    65.34         65.34\n",
       "inliners   66.68  66.68  67.24   66.75  66.72    66.60         66.72"
      ]
     },
     "execution_count": 2307,
     "metadata": {},
     "output_type": "execute_result"
    }
   ],
   "source": [
    "x = pd.DataFrame([before, after],index=['outliers', 'inliners'], columns=col)\n",
    "x"
   ]
  },
  {
   "cell_type": "markdown",
   "metadata": {},
   "source": [
    "#### Nhận xét :\n",
    "- Các phương pháp Median, Mean, Mode, NewVariable đưa ra kết quả thấp (65.34% DCX). Do 3 phương pháp Median, Mean, Mode và NewVariable(thay dữ liệu cột trống bằng Mean) làm thay đổi phương sai của dữ liệu. \n",
    "- Đã dùng phương pháp chuẩn hoá tuy nhiên độ chính xác chỉ đạt 66.64% ( thấp hơn chưa chuẩn hoá ) với kĩ thuật tạo đặc trưng mới => chưa chính xác ( chưa tìm ra nguyên nhân )"
   ]
  }
 ],
 "metadata": {
  "interpreter": {
   "hash": "9805ff7d18dfb0b72269b0d5a7784bb2a4df9213fe3a7a0d13f5f6896380ad5e"
  },
  "kernelspec": {
   "display_name": "Python 3.10.2 64-bit",
   "language": "python",
   "name": "python3"
  },
  "language_info": {
   "codemirror_mode": {
    "name": "ipython",
    "version": 3
   },
   "file_extension": ".py",
   "mimetype": "text/x-python",
   "name": "python",
   "nbconvert_exporter": "python",
   "pygments_lexer": "ipython3",
   "version": "3.10.2"
  },
  "orig_nbformat": 4
 },
 "nbformat": 4,
 "nbformat_minor": 2
}
