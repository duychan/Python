{
 "cells": [
  {
   "cell_type": "markdown",
   "metadata": {},
   "source": [
    "# Câu 1: Boostrap Sampling Method\n",
    "Ước tính phân bố lấy mẫu của 1 thông số thông kê,\n",
    "ở bài này chúng ta sẽ dùng thông số thống kê là độ lệch chuẩn (STD)"
   ]
  },
  {
   "cell_type": "code",
   "execution_count": 11,
   "metadata": {},
   "outputs": [],
   "source": [
    "# Trước hết, ta import các thư viện \n",
    "import numpy as np \n",
    "import pandas as pd \n",
    "import seaborn as sns \n",
    "import matplotlib.pyplot as plt "
   ]
  },
  {
   "cell_type": "markdown",
   "metadata": {},
   "source": [
    "Để làm việc với file csv ta dùng các hàm của pandas"
   ]
  },
  {
   "cell_type": "code",
   "execution_count": 12,
   "metadata": {},
   "outputs": [
    {
     "name": "stdout",
     "output_type": "stream",
     "text": [
      "                                  name  selling_price  year seller_type  \\\n",
      "0            Royal Enfield Classic 350         175000  2019  Individual   \n",
      "1                            Honda Dio          45000  2017  Individual   \n",
      "2  Royal Enfield Classic Gunmetal Grey         150000  2018  Individual   \n",
      "3    Yamaha Fazer FI V 2.0 [2016-2018]          65000  2015  Individual   \n",
      "4                Yamaha SZ [2013-2014]          20000  2011  Individual   \n",
      "\n",
      "       owner  km_driven  ex_showroom_price  \n",
      "0  1st owner        350                NaN  \n",
      "1  1st owner       5650                NaN  \n",
      "2  1st owner      12000           148114.0  \n",
      "3  1st owner      23000            89643.0  \n",
      "4  2nd owner      21000                NaN  \n"
     ]
    }
   ],
   "source": [
    "# Đọc dữ liệu từ dataset\n",
    "data = pd.read_csv('BIKE DETAILS.csv') \n",
    "print(data.head(5))"
   ]
  },
  {
   "cell_type": "markdown",
   "metadata": {},
   "source": [
    "Chọn 1 đặc trưng bất kì của dataset để thống kê, ở đây mình chọn đặc trưng là \n",
    "'selling_price'"
   ]
  },
  {
   "cell_type": "code",
   "execution_count": 13,
   "metadata": {},
   "outputs": [
    {
     "name": "stdout",
     "output_type": "stream",
     "text": [
      "[175000  45000 150000  65000  20000]\n"
     ]
    }
   ],
   "source": [
    "# Trích xuất dữ liệu từ đặc trưng thành array\n",
    "arrData = data['selling_price'].to_numpy()\n",
    "print(arrData[:5])"
   ]
  },
  {
   "cell_type": "markdown",
   "metadata": {},
   "source": [
    "## Create Function \n",
    "### Input parameter : n(sample size), M(number of bootstrap samplings), x (confidence interval in %) \n",
    "### Output : figure of histogram, range of confidence interval\n",
    "\n"
   ]
  },
  {
   "cell_type": "code",
   "execution_count": 14,
   "metadata": {},
   "outputs": [],
   "source": [
    "def BootstrapMethod(n, M, x):\n",
    "    arrSTD = [] # Tạo ra mảng rỗng để chứa giá trị STD của từng row\n",
    "    \n",
    "    for _ in range(M): # Thực hiện M lần lấy mẫu\n",
    "        rowData = arrData[np.random.randint(len(data), size= n)] # Tạo ra 1 mảng với độ dài là n, các giá trị được chọn ngẫu nhiên từ dataset\n",
    "        stdRow = np.std(rowData) # Tính STD từng row\n",
    "        arrSTD.append(stdRow) # Lưu lại các giá trị\n",
    "        \n",
    "    p = ((1.0-x)/2.0) * 100\n",
    "    lower =  np.percentile(arrSTD, p)\n",
    "    \n",
    "    p = (x+((1.0-x)/2.0)) * 100\n",
    "    upper =  np.percentile(arrSTD, p)\n",
    "    \n",
    "    confidenceIntervalRange = np.array([lower,upper],dtype=int)\n",
    "    \n",
    "    sns.displot(arrSTD, kde = True) # plot phân bố các giá trị STD đã lưu trước đó\n",
    "    plt.plot([lower,lower],[0, 650],color= \"r\")\n",
    "    plt.plot([upper, upper],[0, 650], color= \"r\")\n",
    "    plt.annotate(round(lower), [lower, 180])\n",
    "    plt.annotate(round(upper), [upper, 180])\n",
    "    #plt.axvline(x= lower, color='r') # plot đầu khoảng tin cậy\n",
    "    #plt.axvline(x= upper, color='r') # plot đuôi khoảng tin cậy\n",
    "    plt.show()\n",
    "    \n",
    "    return confidenceIntervalRange # trả về mảng chứa giá trị ở đầu cuối của khoảng tin cậy"
   ]
  },
  {
   "cell_type": "markdown",
   "metadata": {},
   "source": [
    "Gọi hàm"
   ]
  },
  {
   "cell_type": "code",
   "execution_count": 15,
   "metadata": {},
   "outputs": [
    {
     "data": {
      "image/png": "[encoded data removed]",
      "text/plain": [
       "<Figure size 360x360 with 1 Axes>"
      ]
     },
     "metadata": {
      "needs_background": "light"
     },
     "output_type": "display_data"
    },
    {
     "name": "stdout",
     "output_type": "stream",
     "text": [
      "Range of Confidence Interval : [37409 88629]\n"
     ]
    }
   ],
   "source": [
    "print(\"Range of Confidence Interval :\", BootstrapMethod(10, 1000,0.9))"
   ]
  },
  {
   "cell_type": "markdown",
   "metadata": {},
   "source": [
    "## NHẬN XÉT:\n",
    "### Kết quả cho ta thấy được rằng độ lệch chuẩn về giá cả của các loại xe được tập trung khoảng 10000 đến 110000. \n",
    "### Các tham số ảnh hưởng khá nhiều đến kết quả:\n",
    "- Sample size: khi càng tăng size của sample ta sẽ tính được giá trị độ lệch chuẩn càng lớn\n",
    "- Number of bootstrap samplings : càng tăng thì sẽ cho ra kết quả với độ mịn cao hơn vì tần xuất lặp lại của các giá trị tăng\n",
    "- CI : loại bỏ được các giá trị nằm ngoài phạm vi được xét\n",
    "### Ý kiến cá nhân\n",
    "- Không nên chọn size của sample quá lớn ( < 100)\n",
    "- Nên sử dụng giá trị M lớn nhất có thể tuỳ thuộc vào sample size (ảnh hướng đến độ phức tạp)\n",
    "- CI: nên sử dụng khoảng 90% nếu M lớn và 95% nếu M nhỏ hơn"
   ]
  }
 ],
 "metadata": {
  "interpreter": {
   "hash": "916dbcbb3f70747c44a77c7bcd40155683ae19c65e1c03b4aa3499c5328201f1"
  },
  "kernelspec": {
   "display_name": "Python 3.8.10 64-bit",
   "language": "python",
   "name": "python3"
  },
  "language_info": {
   "codemirror_mode": {
    "name": "ipython",
    "version": 3
   },
   "file_extension": ".py",
   "mimetype": "text/x-python",
   "name": "python",
   "nbconvert_exporter": "python",
   "pygments_lexer": "ipython3",
   "version": "3.9.7"
  },
  "orig_nbformat": 4
 },
 "nbformat": 4,
 "nbformat_minor": 2
}
