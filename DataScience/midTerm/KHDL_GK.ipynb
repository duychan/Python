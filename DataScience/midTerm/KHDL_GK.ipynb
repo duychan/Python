{
 "cells": [
  {
   "cell_type": "markdown",
   "metadata": {},
   "source": [
    "# KIỂM TRA GIỮA KÌ : KHOA HỌC DỮ LIỆU"
   ]
  },
  {
   "cell_type": "markdown",
   "metadata": {},
   "source": [
    "### Link dataset: https://www.kaggle.com/datasets/nehalbirla/motorcycle-dataset\n",
    "Dữ liệu của xe motor được bán qua từng năm(1988 - 2020) của 1 khu vực"
   ]
  },
  {
   "cell_type": "markdown",
   "metadata": {},
   "source": [
    "\n",
    "## Câu 1: Boostrap Sampling Method\n",
    "Ước tính phân bố lấy mẫu của 1 thông số thông kê,\n",
    "ở bài này chúng ta sẽ dùng thông số thống kê là độ lệch chuẩn (STD)"
   ]
  },
  {
   "cell_type": "code",
   "execution_count": 60,
   "metadata": {},
   "outputs": [],
   "source": [
    "# Trước hết, ta import các thư viện \n",
    "import numpy as np \n",
    "import pandas as pd \n",
    "import seaborn as sns \n",
    "import matplotlib.pyplot as plt "
   ]
  },
  {
   "cell_type": "markdown",
   "metadata": {},
   "source": [
    "Để làm việc với file csv ta dùng các hàm của pandas"
   ]
  },
  {
   "cell_type": "code",
   "execution_count": 61,
   "metadata": {},
   "outputs": [],
   "source": [
    "# Đọc dữ liệu từ dataset\n",
    "data = pd.read_csv('BIKE DETAILS.csv') \n"
   ]
  },
  {
   "cell_type": "markdown",
   "metadata": {},
   "source": [
    "Chọn 1 thuộc tính bất kì của dataset để thống kê, ở đây mình chọn thuộc tính \n",
    "'selling_price'"
   ]
  },
  {
   "cell_type": "code",
   "execution_count": 62,
   "metadata": {},
   "outputs": [
    {
     "name": "stdout",
     "output_type": "stream",
     "text": [
      "[175000  45000 150000  65000  20000]\n"
     ]
    }
   ],
   "source": [
    "# Trích xuất dữ liệu từ đặc trưng thành array\n",
    "arrData = data['selling_price'].to_numpy()\n",
    "print(arrData[:5])"
   ]
  },
  {
   "cell_type": "markdown",
   "metadata": {},
   "source": [
    "## Create Function \n",
    "### Input parameter : n(sample size), M(number of bootstrap samplings), x (confidence interval in %) \n",
    "### Output : figure of histogram, range of confidence interval\n",
    "\n"
   ]
  },
  {
   "cell_type": "code",
   "execution_count": 63,
   "metadata": {},
   "outputs": [],
   "source": [
    "# 1. Tính toán đặc trưng trên M lần\n",
    "# 2. Tính khoảng tin cậy\n",
    "# 3. Plot\n",
    "def BootstrapMethod(n, M, x):    \n",
    "    arrSTD = [] \n",
    "    \n",
    "    for _ in range(M): \n",
    "        rowData = arrData[np.random.randint(len(data), size= n)] \n",
    "        stdRow = np.std(rowData) \n",
    "        arrSTD.append(stdRow) \n",
    "        \n",
    "    percent = ((1.0-x)/2.0) * 100\n",
    "    lower =  np.percentile(arrSTD, percent)\n",
    "    \n",
    "    percent = (x+((1.0-x)/2.0)) * 100\n",
    "    upper =  np.percentile(arrSTD, percent)\n",
    "\n",
    "    confidenceIntervalRange = np.array([lower, upper], dtype= int)\n",
    "    \n",
    "    sns.displot(arrSTD, kde = True) \n",
    "    plt.plot([lower, lower],[0, 650],color= \"r\")\n",
    "    plt.plot([upper, upper],[0, 650], color= \"r\")\n",
    "    plt.annotate(round(lower), [lower, 180])\n",
    "    plt.annotate(round(upper), [upper, 180])\n",
    "    return confidenceIntervalRange "
   ]
  },
  {
   "cell_type": "markdown",
   "metadata": {},
   "source": [
    "Gọi hàm"
   ]
  },
  {
   "cell_type": "code",
   "execution_count": 64,
   "metadata": {},
   "outputs": [
    {
     "name": "stdout",
     "output_type": "stream",
     "text": [
      "Range of Confidence Interval : [16442 85521]\n"
     ]
    },
    {
     "data": {
      "image/png": "[encoded data removed]",
      "text/plain": [
       "<Figure size 360x360 with 1 Axes>"
      ]
     },
     "metadata": {
      "needs_background": "light"
     },
     "output_type": "display_data"
    }
   ],
   "source": [
    "print(\"Range of Confidence Interval :\", BootstrapMethod(10, 15000,0.9))"
   ]
  },
  {
   "cell_type": "markdown",
   "metadata": {},
   "source": [
    "## NHẬN XÉT:\n",
    "### Kết quả cho ta thấy được rằng độ lệch chuẩn về giá cả của các loại xe được tập trung khoảng 10000 đến 110000. \n",
    "### Các tham số ảnh hưởng khá nhiều đến kết quả:\n",
    "- Sample size: khi càng tăng size của sample ta sẽ tính được giá trị độ lệch chuẩn càng lớn\n",
    "- Number of bootstrap samplings : càng tăng thì sẽ cho ra kết quả với độ mịn cao hơn vì tần xuất lặp lại của các giá trị tăng\n",
    "- CI : loại bỏ được các giá trị nằm ngoài phạm vi được xét\n",
    "### Ý kiến cá nhân\n",
    "- Không nên chọn size của sample quá lớn ( < 100)\n",
    "- Nên sử dụng giá trị M lớn nhất có thể tuỳ thuộc vào sample size (ảnh hướng đến độ phức tạp)\n",
    "- CI: nên sử dụng khoảng 90% nếu M lớn và 95% nếu M nhỏ hơn"
   ]
  },
  {
   "cell_type": "markdown",
   "metadata": {},
   "source": [
    "## Câu 2: Thống kê mô tả quan trọng của các biến"
   ]
  },
  {
   "cell_type": "code",
   "execution_count": 65,
   "metadata": {},
   "outputs": [
    {
     "name": "stdout",
     "output_type": "stream",
     "text": [
      "                                   name  selling_price  year seller_type  \\\n",
      "0             Royal Enfield Classic 350         175000  2019  Individual   \n",
      "1                             Honda Dio          45000  2017  Individual   \n",
      "2   Royal Enfield Classic Gunmetal Grey         150000  2018  Individual   \n",
      "3     Yamaha Fazer FI V 2.0 [2016-2018]          65000  2015  Individual   \n",
      "4                 Yamaha SZ [2013-2014]          20000  2011  Individual   \n",
      "5                      Honda CB Twister          18000  2010  Individual   \n",
      "6                  Honda CB Hornet 160R          78500  2018  Individual   \n",
      "7  Royal Enfield Bullet 350 [2007-2011]         180000  2008  Individual   \n",
      "8                Hero Honda CBZ extreme          30000  2010  Individual   \n",
      "9                    Bajaj Discover 125          50000  2016  Individual   \n",
      "\n",
      "       owner  km_driven  ex_showroom_price  \n",
      "0  1st owner        350                NaN  \n",
      "1  1st owner       5650                NaN  \n",
      "2  1st owner      12000           148114.0  \n",
      "3  1st owner      23000            89643.0  \n",
      "4  2nd owner      21000                NaN  \n",
      "5  1st owner      60000            53857.0  \n",
      "6  1st owner      17000            87719.0  \n",
      "7  2nd owner      39000                NaN  \n",
      "8  1st owner      32000                NaN  \n",
      "9  1st owner      42000            60122.0  \n"
     ]
    }
   ],
   "source": [
    "# Đọc dữ liệu từ dataset\n",
    "data = pd.read_csv('BIKE DETAILS.csv') \n",
    "print(data.head(10))"
   ]
  },
  {
   "cell_type": "markdown",
   "metadata": {},
   "source": [
    "Nhìn vào dataset ta có thể thấy được các biến như [name, selling_price, year, seller_type, owner, km_driven, ex_showroom_price]\n",
    "Giờ chúng ta sẽ tính các đặc trưng của tất cả các biến như [selling_price, year, km_driven, ex_showroom_price]"
   ]
  },
  {
   "cell_type": "code",
   "execution_count": 66,
   "metadata": {},
   "outputs": [
    {
     "data": {
      "text/html": [
       "<div>\n",
       "<style scoped>\n",
       "    .dataframe tbody tr th:only-of-type {\n",
       "        vertical-align: middle;\n",
       "    }\n",
       "\n",
       "    .dataframe tbody tr th {\n",
       "        vertical-align: top;\n",
       "    }\n",
       "\n",
       "    .dataframe thead th {\n",
       "        text-align: right;\n",
       "    }\n",
       "</style>\n",
       "<table border=\"1\" class=\"dataframe\">\n",
       "  <thead>\n",
       "    <tr style=\"text-align: right;\">\n",
       "      <th></th>\n",
       "      <th>selling_price</th>\n",
       "      <th>year</th>\n",
       "      <th>seller_type</th>\n",
       "      <th>owner</th>\n",
       "      <th>km_driven</th>\n",
       "      <th>ex_showroom_price</th>\n",
       "    </tr>\n",
       "  </thead>\n",
       "  <tbody>\n",
       "    <tr>\n",
       "      <th>0</th>\n",
       "      <td>175000</td>\n",
       "      <td>2019</td>\n",
       "      <td>Individual</td>\n",
       "      <td>1</td>\n",
       "      <td>350</td>\n",
       "      <td>NaN</td>\n",
       "    </tr>\n",
       "    <tr>\n",
       "      <th>1</th>\n",
       "      <td>45000</td>\n",
       "      <td>2017</td>\n",
       "      <td>Individual</td>\n",
       "      <td>1</td>\n",
       "      <td>5650</td>\n",
       "      <td>NaN</td>\n",
       "    </tr>\n",
       "    <tr>\n",
       "      <th>2</th>\n",
       "      <td>150000</td>\n",
       "      <td>2018</td>\n",
       "      <td>Individual</td>\n",
       "      <td>1</td>\n",
       "      <td>12000</td>\n",
       "      <td>148114.0</td>\n",
       "    </tr>\n",
       "    <tr>\n",
       "      <th>3</th>\n",
       "      <td>65000</td>\n",
       "      <td>2015</td>\n",
       "      <td>Individual</td>\n",
       "      <td>1</td>\n",
       "      <td>23000</td>\n",
       "      <td>89643.0</td>\n",
       "    </tr>\n",
       "    <tr>\n",
       "      <th>4</th>\n",
       "      <td>20000</td>\n",
       "      <td>2011</td>\n",
       "      <td>Individual</td>\n",
       "      <td>2</td>\n",
       "      <td>21000</td>\n",
       "      <td>NaN</td>\n",
       "    </tr>\n",
       "    <tr>\n",
       "      <th>5</th>\n",
       "      <td>18000</td>\n",
       "      <td>2010</td>\n",
       "      <td>Individual</td>\n",
       "      <td>1</td>\n",
       "      <td>60000</td>\n",
       "      <td>53857.0</td>\n",
       "    </tr>\n",
       "    <tr>\n",
       "      <th>6</th>\n",
       "      <td>78500</td>\n",
       "      <td>2018</td>\n",
       "      <td>Individual</td>\n",
       "      <td>1</td>\n",
       "      <td>17000</td>\n",
       "      <td>87719.0</td>\n",
       "    </tr>\n",
       "    <tr>\n",
       "      <th>7</th>\n",
       "      <td>180000</td>\n",
       "      <td>2008</td>\n",
       "      <td>Individual</td>\n",
       "      <td>2</td>\n",
       "      <td>39000</td>\n",
       "      <td>NaN</td>\n",
       "    </tr>\n",
       "    <tr>\n",
       "      <th>8</th>\n",
       "      <td>30000</td>\n",
       "      <td>2010</td>\n",
       "      <td>Individual</td>\n",
       "      <td>1</td>\n",
       "      <td>32000</td>\n",
       "      <td>NaN</td>\n",
       "    </tr>\n",
       "    <tr>\n",
       "      <th>9</th>\n",
       "      <td>50000</td>\n",
       "      <td>2016</td>\n",
       "      <td>Individual</td>\n",
       "      <td>1</td>\n",
       "      <td>42000</td>\n",
       "      <td>60122.0</td>\n",
       "    </tr>\n",
       "  </tbody>\n",
       "</table>\n",
       "</div>"
      ],
      "text/plain": [
       "   selling_price  year seller_type  owner  km_driven  ex_showroom_price\n",
       "0         175000  2019  Individual      1        350                NaN\n",
       "1          45000  2017  Individual      1       5650                NaN\n",
       "2         150000  2018  Individual      1      12000           148114.0\n",
       "3          65000  2015  Individual      1      23000            89643.0\n",
       "4          20000  2011  Individual      2      21000                NaN\n",
       "5          18000  2010  Individual      1      60000            53857.0\n",
       "6          78500  2018  Individual      1      17000            87719.0\n",
       "7         180000  2008  Individual      2      39000                NaN\n",
       "8          30000  2010  Individual      1      32000                NaN\n",
       "9          50000  2016  Individual      1      42000            60122.0"
      ]
     },
     "execution_count": 66,
     "metadata": {},
     "output_type": "execute_result"
    }
   ],
   "source": [
    "data.replace({'1st owner':1, '2nd owner':2, '3rd owner':3, '4th owner':4}, inplace=True)\n",
    "data.drop(['name'], axis=1, inplace=True)\n",
    "data.head(10)"
   ]
  },
  {
   "cell_type": "code",
   "execution_count": 67,
   "metadata": {},
   "outputs": [
    {
     "data": {
      "text/html": [
       "<div>\n",
       "<style scoped>\n",
       "    .dataframe tbody tr th:only-of-type {\n",
       "        vertical-align: middle;\n",
       "    }\n",
       "\n",
       "    .dataframe tbody tr th {\n",
       "        vertical-align: top;\n",
       "    }\n",
       "\n",
       "    .dataframe thead th {\n",
       "        text-align: right;\n",
       "    }\n",
       "</style>\n",
       "<table border=\"1\" class=\"dataframe\">\n",
       "  <thead>\n",
       "    <tr style=\"text-align: right;\">\n",
       "      <th></th>\n",
       "      <th>selling_price</th>\n",
       "      <th>year</th>\n",
       "      <th>owner</th>\n",
       "      <th>km_driven</th>\n",
       "      <th>ex_showroom_price</th>\n",
       "    </tr>\n",
       "  </thead>\n",
       "  <tbody>\n",
       "    <tr>\n",
       "      <th>count</th>\n",
       "      <td>1061.000000</td>\n",
       "      <td>1061.000000</td>\n",
       "      <td>1061.000000</td>\n",
       "      <td>1061.000000</td>\n",
       "      <td>6.260000e+02</td>\n",
       "    </tr>\n",
       "    <tr>\n",
       "      <th>mean</th>\n",
       "      <td>59638.151744</td>\n",
       "      <td>2013.867107</td>\n",
       "      <td>1.145146</td>\n",
       "      <td>34359.833176</td>\n",
       "      <td>8.795871e+04</td>\n",
       "    </tr>\n",
       "    <tr>\n",
       "      <th>std</th>\n",
       "      <td>56304.291973</td>\n",
       "      <td>4.301191</td>\n",
       "      <td>0.402407</td>\n",
       "      <td>51623.152702</td>\n",
       "      <td>7.749659e+04</td>\n",
       "    </tr>\n",
       "    <tr>\n",
       "      <th>min</th>\n",
       "      <td>5000.000000</td>\n",
       "      <td>1988.000000</td>\n",
       "      <td>1.000000</td>\n",
       "      <td>350.000000</td>\n",
       "      <td>3.049000e+04</td>\n",
       "    </tr>\n",
       "    <tr>\n",
       "      <th>25%</th>\n",
       "      <td>28000.000000</td>\n",
       "      <td>2011.000000</td>\n",
       "      <td>1.000000</td>\n",
       "      <td>13500.000000</td>\n",
       "      <td>5.485200e+04</td>\n",
       "    </tr>\n",
       "    <tr>\n",
       "      <th>50%</th>\n",
       "      <td>45000.000000</td>\n",
       "      <td>2015.000000</td>\n",
       "      <td>1.000000</td>\n",
       "      <td>25000.000000</td>\n",
       "      <td>7.275250e+04</td>\n",
       "    </tr>\n",
       "    <tr>\n",
       "      <th>75%</th>\n",
       "      <td>70000.000000</td>\n",
       "      <td>2017.000000</td>\n",
       "      <td>1.000000</td>\n",
       "      <td>43000.000000</td>\n",
       "      <td>8.703150e+04</td>\n",
       "    </tr>\n",
       "    <tr>\n",
       "      <th>max</th>\n",
       "      <td>760000.000000</td>\n",
       "      <td>2020.000000</td>\n",
       "      <td>4.000000</td>\n",
       "      <td>880000.000000</td>\n",
       "      <td>1.278000e+06</td>\n",
       "    </tr>\n",
       "  </tbody>\n",
       "</table>\n",
       "</div>"
      ],
      "text/plain": [
       "       selling_price         year        owner      km_driven  \\\n",
       "count    1061.000000  1061.000000  1061.000000    1061.000000   \n",
       "mean    59638.151744  2013.867107     1.145146   34359.833176   \n",
       "std     56304.291973     4.301191     0.402407   51623.152702   \n",
       "min      5000.000000  1988.000000     1.000000     350.000000   \n",
       "25%     28000.000000  2011.000000     1.000000   13500.000000   \n",
       "50%     45000.000000  2015.000000     1.000000   25000.000000   \n",
       "75%     70000.000000  2017.000000     1.000000   43000.000000   \n",
       "max    760000.000000  2020.000000     4.000000  880000.000000   \n",
       "\n",
       "       ex_showroom_price  \n",
       "count       6.260000e+02  \n",
       "mean        8.795871e+04  \n",
       "std         7.749659e+04  \n",
       "min         3.049000e+04  \n",
       "25%         5.485200e+04  \n",
       "50%         7.275250e+04  \n",
       "75%         8.703150e+04  \n",
       "max         1.278000e+06  "
      ]
     },
     "execution_count": 67,
     "metadata": {},
     "output_type": "execute_result"
    }
   ],
   "source": [
    "# Tính các đặc trưng từng thuộc tính của dataset\n",
    "data.describe()"
   ]
  },
  {
   "cell_type": "markdown",
   "metadata": {},
   "source": [
    "## Phân tích độ quan trọng của các biến"
   ]
  },
  {
   "cell_type": "code",
   "execution_count": 68,
   "metadata": {},
   "outputs": [
    {
     "data": {
      "image/png": "[encoded data removed]",
      "text/plain": [
       "<Figure size 1440x1080 with 4 Axes>"
      ]
     },
     "metadata": {
      "needs_background": "light"
     },
     "output_type": "display_data"
    }
   ],
   "source": [
    "data.drop(['ex_showroom_price'], axis=1, inplace=True)\n",
    "data.hist(figsize=(20,15), grid=0, bins=20);"
   ]
  },
  {
   "cell_type": "markdown",
   "metadata": {},
   "source": [
    "### Nhận xét:\n",
    "- Số lượng xe\n",
    "    + chủ yếu ở mức giá 20-180k$\n",
    "    + lúc mua tập trung vào khoảng năm 2005-2020\n",
    "    + chủ sở hữu đa số là mua mới\n",
    "    + quãng đường đã đi vào khoảng 10-150k km"
   ]
  },
  {
   "cell_type": "markdown",
   "metadata": {},
   "source": [
    "## Sự tương quan"
   ]
  },
  {
   "cell_type": "code",
   "execution_count": 69,
   "metadata": {},
   "outputs": [
    {
     "data": {
      "text/plain": [
       "<AxesSubplot:xlabel='year', ylabel='Count'>"
      ]
     },
     "execution_count": 69,
     "metadata": {},
     "output_type": "execute_result"
    },
    {
     "data": {
      "image/png": "[encoded data removed]",
      "text/plain": [
       "<Figure size 432x288 with 1 Axes>"
      ]
     },
     "metadata": {
      "needs_background": "light"
     },
     "output_type": "display_data"
    }
   ],
   "source": [
    "# Biểu đồ phân bố chuẩn của xe được bán ra và bán lại theo từng năm\n",
    "sns.histplot(data=data, x=\"year\", hue=\"seller_type\", multiple=\"stack\")"
   ]
  },
  {
   "cell_type": "markdown",
   "metadata": {},
   "source": [
    "### Nhận xét:\n",
    "- Lượng xe được bán ra tập trung nhiều vào các năm từ 2010-2020\n",
    "- Khách hàng đa số là tự đi mua, ít được chào mua"
   ]
  },
  {
   "cell_type": "code",
   "execution_count": 70,
   "metadata": {},
   "outputs": [
    {
     "data": {
      "text/plain": [
       "<AxesSubplot:xlabel='year', ylabel='Count'>"
      ]
     },
     "execution_count": 70,
     "metadata": {},
     "output_type": "execute_result"
    },
    {
     "data": {
      "image/png": "[encoded data removed]",
      "text/plain": [
       "<Figure size 432x288 with 1 Axes>"
      ]
     },
     "metadata": {
      "needs_background": "light"
     },
     "output_type": "display_data"
    }
   ],
   "source": [
    "# Biểu đồ phân bố chuẩn của xe được bán ra và loại chủ sở hữu tương ứng theo từng năm\n",
    "sns.histplot(data=data, x=\"year\",hue=\"owner\", multiple=\"stack\")"
   ]
  },
  {
   "cell_type": "markdown",
   "metadata": {},
   "source": [
    "### Nhận xét:\n",
    "- Đa số khách mua xe đều là chủ đầu\n",
    "- từ 2010 đến 2017 có dấu hiệu pass lại xe nhiều tuy nhiên giảm ngay sau đó"
   ]
  },
  {
   "cell_type": "code",
   "execution_count": 71,
   "metadata": {},
   "outputs": [
    {
     "data": {
      "text/plain": [
       "<AxesSubplot:xlabel='year', ylabel='selling_price'>"
      ]
     },
     "execution_count": 71,
     "metadata": {},
     "output_type": "execute_result"
    },
    {
     "data": {
      "image/png": "[encoded data removed]",
      "text/plain": [
       "<Figure size 432x288 with 1 Axes>"
      ]
     },
     "metadata": {
      "needs_background": "light"
     },
     "output_type": "display_data"
    }
   ],
   "source": [
    "# biểu đồ thể hiện giá bán của các xe dao động theo từng năm\n",
    "sns.lineplot(x = \"year\", y = \"selling_price\", data = data)"
   ]
  },
  {
   "cell_type": "markdown",
   "metadata": {},
   "source": [
    "### Nhận xét:\n",
    "- Giá xe được tăng từ 250k và không có xu hướng giảm\n",
    "- Lý do : Thoái hoá dòng tiền, Siêu xe ra đời\n",
    "- Những năm 1990-1995 xe cũng được đẩy giá lên cao.\n",
    "- Lý do : đam mê các loại xe cổ, đấu giá,...\n",
    "- Quy luật : Bắt đầu từ 2005 các loại xe bắt đầu tăng giá"
   ]
  },
  {
   "cell_type": "code",
   "execution_count": 72,
   "metadata": {},
   "outputs": [
    {
     "data": {
      "text/plain": [
       "<matplotlib.legend.Legend at 0x2ab247672e0>"
      ]
     },
     "execution_count": 72,
     "metadata": {},
     "output_type": "execute_result"
    },
    {
     "data": {
      "image/png": "[encoded data removed]",
      "text/plain": [
       "<Figure size 432x288 with 1 Axes>"
      ]
     },
     "metadata": {},
     "output_type": "display_data"
    }
   ],
   "source": [
    "# Phân chia các lại chủ sở hữu\n",
    "labels = ['1st owner', '2nd owner', '3rd owner', '4th owner']\n",
    "data['owner'].value_counts().plot.pie(autopct='%.1f%%')\n",
    "x = data['owner'].value_counts()\n",
    "plt.legend(labels,\n",
    "          title=\"owner\",\n",
    "          loc=\"center left\",\n",
    "          bbox_to_anchor=(1, 0, 0.5, 1))\n"
   ]
  },
  {
   "cell_type": "markdown",
   "metadata": {},
   "source": [
    "### Nhận xét:\n",
    "- chủ sở hữu đa số là chủ đầu\n",
    "- các chủ sở hữu sau tập trung chủ yếu vào các năm từ 2010-2017"
   ]
  }
 ],
 "metadata": {
  "interpreter": {
   "hash": "916dbcbb3f70747c44a77c7bcd40155683ae19c65e1c03b4aa3499c5328201f1"
  },
  "kernelspec": {
   "display_name": "Python 3.8.10 64-bit",
   "language": "python",
   "name": "python3"
  },
  "language_info": {
   "codemirror_mode": {
    "name": "ipython",
    "version": 3
   },
   "file_extension": ".py",
   "mimetype": "text/x-python",
   "name": "python",
   "nbconvert_exporter": "python",
   "pygments_lexer": "ipython3",
   "version": "3.10.2"
  },
  "orig_nbformat": 4
 },
 "nbformat": 4,
 "nbformat_minor": 2
}
