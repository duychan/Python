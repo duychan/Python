{
 "cells": [
  {
   "cell_type": "markdown",
   "metadata": {},
   "source": [
    "## cleaning data for model training "
   ]
  },
  {
   "cell_type": "markdown",
   "metadata": {},
   "source": [
    "### problem statement"
   ]
  },
  {
   "cell_type": "code",
   "execution_count": 322,
   "metadata": {},
   "outputs": [],
   "source": [
    "import numpy as np\n",
    "import pandas as pd\n",
    "import seaborn as sns\n",
    "import matplotlib.pyplot as plt"
   ]
  },
  {
   "cell_type": "code",
   "execution_count": 323,
   "metadata": {},
   "outputs": [
    {
     "data": {
      "text/html": [
       "<div>\n",
       "<style scoped>\n",
       "    .dataframe tbody tr th:only-of-type {\n",
       "        vertical-align: middle;\n",
       "    }\n",
       "\n",
       "    .dataframe tbody tr th {\n",
       "        vertical-align: top;\n",
       "    }\n",
       "\n",
       "    .dataframe thead th {\n",
       "        text-align: right;\n",
       "    }\n",
       "</style>\n",
       "<table border=\"1\" class=\"dataframe\">\n",
       "  <thead>\n",
       "    <tr style=\"text-align: right;\">\n",
       "      <th></th>\n",
       "      <th>stt</th>\n",
       "      <th>url</th>\n",
       "      <th>address</th>\n",
       "      <th>name</th>\n",
       "      <th>location</th>\n",
       "      <th>confirmed</th>\n",
       "      <th>rate</th>\n",
       "      <th>votes</th>\n",
       "      <th>rest_type</th>\n",
       "      <th>special_diet</th>\n",
       "      <th>price_max</th>\n",
       "      <th>price_min</th>\n",
       "    </tr>\n",
       "  </thead>\n",
       "  <tbody>\n",
       "    <tr>\n",
       "      <th>0</th>\n",
       "      <td>0</td>\n",
       "      <td>https://www.tripadvisor.com.vn/Restaurant_Revi...</td>\n",
       "      <td>88 Đồng Khởi, Q.1 Khách Sạn Sheraton, Thành ph...</td>\n",
       "      <td>The Lounge</td>\n",
       "      <td>Thành phố Hồ Chí Minh</td>\n",
       "      <td>Y</td>\n",
       "      <td>5.0</td>\n",
       "      <td>266.0</td>\n",
       "      <td>Quầy bar, Cà phê, Đồ ăn nhanh</td>\n",
       "      <td>Y</td>\n",
       "      <td>NaN</td>\n",
       "      <td>NaN</td>\n",
       "    </tr>\n",
       "    <tr>\n",
       "      <th>1</th>\n",
       "      <td>1</td>\n",
       "      <td>https://www.tripadvisor.com.vn/Restaurant_Revi...</td>\n",
       "      <td>Sheraton Saigon Hotel &amp; Towers, Level 2 88 Don...</td>\n",
       "      <td>Li Bai Restaurant</td>\n",
       "      <td>Thành phố Hồ Chí Minh</td>\n",
       "      <td>Y</td>\n",
       "      <td>5.0</td>\n",
       "      <td>1070.0</td>\n",
       "      <td>Kiểu Trung Quốc, Kiểu Á</td>\n",
       "      <td>Y</td>\n",
       "      <td>NaN</td>\n",
       "      <td>NaN</td>\n",
       "    </tr>\n",
       "    <tr>\n",
       "      <th>2</th>\n",
       "      <td>2</td>\n",
       "      <td>https://www.tripadvisor.com.vn/Restaurant_Revi...</td>\n",
       "      <td>80 Đông Du, Phường Bến Nghé, Quận 1 Sheraton S...</td>\n",
       "      <td>Nhà Hàng Saigon Café</td>\n",
       "      <td>Thành phố Hồ Chí Minh</td>\n",
       "      <td>Y</td>\n",
       "      <td>5.0</td>\n",
       "      <td>446.0</td>\n",
       "      <td>Hải sản, Kiểu Á, Quốc tế</td>\n",
       "      <td>Y</td>\n",
       "      <td>NaN</td>\n",
       "      <td>NaN</td>\n",
       "    </tr>\n",
       "    <tr>\n",
       "      <th>3</th>\n",
       "      <td>3</td>\n",
       "      <td>https://www.tripadvisor.com.vn/Restaurant_Revi...</td>\n",
       "      <td>8-15 Ton Duc Thang Street, District 1 Renaissa...</td>\n",
       "      <td>Kabin</td>\n",
       "      <td>Thành phố Hồ Chí Minh</td>\n",
       "      <td>Y</td>\n",
       "      <td>5.0</td>\n",
       "      <td>295.0</td>\n",
       "      <td>Kiểu Trung Quốc</td>\n",
       "      <td>Y</td>\n",
       "      <td>2325581.0</td>\n",
       "      <td>372093.0</td>\n",
       "    </tr>\n",
       "    <tr>\n",
       "      <th>4</th>\n",
       "      <td>4</td>\n",
       "      <td>https://www.tripadvisor.com.vn/Restaurant_Revi...</td>\n",
       "      <td>112 Pham Viet Chanh, Phuong 19, Binh Thanh, Th...</td>\n",
       "      <td>Kebaby</td>\n",
       "      <td>Thành phố Hồ Chí Minh</td>\n",
       "      <td>Y</td>\n",
       "      <td>5.0</td>\n",
       "      <td>115.0</td>\n",
       "      <td>Đồ ăn nhanh, Kiểu Địa Trung Hải, Kiểu Thô...</td>\n",
       "      <td>Y</td>\n",
       "      <td>162791.0</td>\n",
       "      <td>46512.0</td>\n",
       "    </tr>\n",
       "  </tbody>\n",
       "</table>\n",
       "</div>"
      ],
      "text/plain": [
       "   stt                                                url  \\\n",
       "0    0  https://www.tripadvisor.com.vn/Restaurant_Revi...   \n",
       "1    1  https://www.tripadvisor.com.vn/Restaurant_Revi...   \n",
       "2    2  https://www.tripadvisor.com.vn/Restaurant_Revi...   \n",
       "3    3  https://www.tripadvisor.com.vn/Restaurant_Revi...   \n",
       "4    4  https://www.tripadvisor.com.vn/Restaurant_Revi...   \n",
       "\n",
       "                                             address                  name  \\\n",
       "0  88 Đồng Khởi, Q.1 Khách Sạn Sheraton, Thành ph...            The Lounge   \n",
       "1  Sheraton Saigon Hotel & Towers, Level 2 88 Don...     Li Bai Restaurant   \n",
       "2  80 Đông Du, Phường Bến Nghé, Quận 1 Sheraton S...  Nhà Hàng Saigon Café   \n",
       "3  8-15 Ton Duc Thang Street, District 1 Renaissa...                 Kabin   \n",
       "4  112 Pham Viet Chanh, Phuong 19, Binh Thanh, Th...                Kebaby   \n",
       "\n",
       "                location confirmed  rate   votes  \\\n",
       "0  Thành phố Hồ Chí Minh         Y   5.0   266.0   \n",
       "1  Thành phố Hồ Chí Minh         Y   5.0  1070.0   \n",
       "2  Thành phố Hồ Chí Minh         Y   5.0   446.0   \n",
       "3  Thành phố Hồ Chí Minh         Y   5.0   295.0   \n",
       "4  Thành phố Hồ Chí Minh         Y   5.0   115.0   \n",
       "\n",
       "                                           rest_type special_diet  price_max  \\\n",
       "0                    Quầy bar, Cà phê, Đồ ăn nhanh            Y        NaN   \n",
       "1                          Kiểu Trung Quốc, Kiểu Á            Y        NaN   \n",
       "2                     Hải sản, Kiểu Á, Quốc tế            Y        NaN   \n",
       "3                                    Kiểu Trung Quốc            Y  2325581.0   \n",
       "4  Đồ ăn nhanh, Kiểu Địa Trung Hải, Kiểu Thô...            Y   162791.0   \n",
       "\n",
       "   price_min  \n",
       "0        NaN  \n",
       "1        NaN  \n",
       "2        NaN  \n",
       "3   372093.0  \n",
       "4    46512.0  "
      ]
     },
     "execution_count": 323,
     "metadata": {},
     "output_type": "execute_result"
    }
   ],
   "source": [
    "data = pd.read_csv('tripadvior.csv')\n",
    "data.head()"
   ]
  },
  {
   "cell_type": "code",
   "execution_count": 324,
   "metadata": {},
   "outputs": [
    {
     "data": {
      "text/plain": [
       "stt                0\n",
       "url                0\n",
       "address            0\n",
       "name               3\n",
       "location           0\n",
       "confirmed          0\n",
       "rate             111\n",
       "votes            111\n",
       "rest_type         55\n",
       "special_diet       0\n",
       "price_max       1221\n",
       "price_min       1221\n",
       "dtype: int64"
      ]
     },
     "execution_count": 324,
     "metadata": {},
     "output_type": "execute_result"
    }
   ],
   "source": [
    "data.isna().sum()"
   ]
  },
  {
   "cell_type": "code",
   "execution_count": 325,
   "metadata": {},
   "outputs": [],
   "source": [
    "del data['url']\n",
    "del data['stt']\n",
    "del data['address']\n",
    "del data['name']"
   ]
  },
  {
   "cell_type": "code",
   "execution_count": 326,
   "metadata": {},
   "outputs": [
    {
     "data": {
      "text/plain": [
       "location        0\n",
       "confirmed       0\n",
       "rate            0\n",
       "votes           0\n",
       "rest_type       0\n",
       "special_diet    0\n",
       "dtype: int64"
      ]
     },
     "execution_count": 326,
     "metadata": {},
     "output_type": "execute_result"
    }
   ],
   "source": [
    "# Median\n",
    "meanRate = data['rate'].median()\n",
    "data['rate'] = data['rate'].fillna(meanRate)\n",
    "\n",
    "# Median\n",
    "meanVote = data['votes'].median()\n",
    "data['votes'] = data['votes'].fillna(meanVote)\n",
    "data.dropna(subset=['rest_type'],inplace=True)\n",
    "data.drop_duplicates(inplace=True)\n",
    "\n",
    "data.isna().sum()\n"
   ]
  },
  {
   "cell_type": "code",
   "execution_count": 327,
   "metadata": {},
   "outputs": [
    {
     "data": {
      "text/html": [
       "<div>\n",
       "<style scoped>\n",
       "    .dataframe tbody tr th:only-of-type {\n",
       "        vertical-align: middle;\n",
       "    }\n",
       "\n",
       "    .dataframe tbody tr th {\n",
       "        vertical-align: top;\n",
       "    }\n",
       "\n",
       "    .dataframe thead th {\n",
       "        text-align: right;\n",
       "    }\n",
       "</style>\n",
       "<table border=\"1\" class=\"dataframe\">\n",
       "  <thead>\n",
       "    <tr style=\"text-align: right;\">\n",
       "      <th></th>\n",
       "      <th>location</th>\n",
       "      <th>confirmed</th>\n",
       "      <th>rate</th>\n",
       "      <th>votes</th>\n",
       "      <th>rest_type</th>\n",
       "      <th>special_diet</th>\n",
       "    </tr>\n",
       "  </thead>\n",
       "  <tbody>\n",
       "    <tr>\n",
       "      <th>0</th>\n",
       "      <td>Thành phố Hồ Chí Minh</td>\n",
       "      <td>Y</td>\n",
       "      <td>5.0</td>\n",
       "      <td>266.0</td>\n",
       "      <td>Quầy bar, Cà phê, Đồ ăn nhanh</td>\n",
       "      <td>Y</td>\n",
       "    </tr>\n",
       "    <tr>\n",
       "      <th>1</th>\n",
       "      <td>Thành phố Hồ Chí Minh</td>\n",
       "      <td>Y</td>\n",
       "      <td>5.0</td>\n",
       "      <td>1070.0</td>\n",
       "      <td>Kiểu Trung Quốc, Kiểu Á</td>\n",
       "      <td>Y</td>\n",
       "    </tr>\n",
       "    <tr>\n",
       "      <th>2</th>\n",
       "      <td>Thành phố Hồ Chí Minh</td>\n",
       "      <td>Y</td>\n",
       "      <td>5.0</td>\n",
       "      <td>446.0</td>\n",
       "      <td>Hải sản, Kiểu Á, Quốc tế</td>\n",
       "      <td>Y</td>\n",
       "    </tr>\n",
       "    <tr>\n",
       "      <th>3</th>\n",
       "      <td>Thành phố Hồ Chí Minh</td>\n",
       "      <td>Y</td>\n",
       "      <td>5.0</td>\n",
       "      <td>295.0</td>\n",
       "      <td>Kiểu Trung Quốc</td>\n",
       "      <td>Y</td>\n",
       "    </tr>\n",
       "    <tr>\n",
       "      <th>4</th>\n",
       "      <td>Thành phố Hồ Chí Minh</td>\n",
       "      <td>Y</td>\n",
       "      <td>5.0</td>\n",
       "      <td>115.0</td>\n",
       "      <td>Đồ ăn nhanh, Kiểu Địa Trung Hải, Kiểu Thô...</td>\n",
       "      <td>Y</td>\n",
       "    </tr>\n",
       "  </tbody>\n",
       "</table>\n",
       "</div>"
      ],
      "text/plain": [
       "                location confirmed  rate   votes  \\\n",
       "0  Thành phố Hồ Chí Minh         Y   5.0   266.0   \n",
       "1  Thành phố Hồ Chí Minh         Y   5.0  1070.0   \n",
       "2  Thành phố Hồ Chí Minh         Y   5.0   446.0   \n",
       "3  Thành phố Hồ Chí Minh         Y   5.0   295.0   \n",
       "4  Thành phố Hồ Chí Minh         Y   5.0   115.0   \n",
       "\n",
       "                                           rest_type special_diet  \n",
       "0                    Quầy bar, Cà phê, Đồ ăn nhanh            Y  \n",
       "1                          Kiểu Trung Quốc, Kiểu Á            Y  \n",
       "2                     Hải sản, Kiểu Á, Quốc tế            Y  \n",
       "3                                    Kiểu Trung Quốc            Y  \n",
       "4  Đồ ăn nhanh, Kiểu Địa Trung Hải, Kiểu Thô...            Y  "
      ]
     },
     "execution_count": 327,
     "metadata": {},
     "output_type": "execute_result"
    }
   ],
   "source": [
    "data.head()"
   ]
  },
  {
   "cell_type": "code",
   "execution_count": 328,
   "metadata": {},
   "outputs": [
    {
     "data": {
      "text/plain": [
       "<AxesSubplot:>"
      ]
     },
     "execution_count": 328,
     "metadata": {},
     "output_type": "execute_result"
    },
    {
     "data": {
      "image/png": "[encoded data removed]",
      "text/plain": [
       "<Figure size 432x288 with 1 Axes>"
      ]
     },
     "metadata": {
      "needs_background": "light"
     },
     "output_type": "display_data"
    }
   ],
   "source": [
    "\n",
    "data.boxplot(['votes'])"
   ]
  },
  {
   "cell_type": "code",
   "execution_count": 329,
   "metadata": {},
   "outputs": [],
   "source": [
    "import scipy.stats as stat\n",
    "def plot_data(df, feature):\n",
    "    plt.figure(figsize=(10, 6))\n",
    "    plt.subplot(1, 2, 1)\n",
    "    df[feature].hist() # histogram\n",
    "    plt.subplot(1, 2, 2)\n",
    "    stat.probplot(df[feature], dist='norm', plot=plt)# prob plot\n",
    "    plt.show()"
   ]
  },
  {
   "cell_type": "code",
   "execution_count": 330,
   "metadata": {},
   "outputs": [
    {
     "data": {
      "image/png": "[encoded data removed]",
      "text/plain": [
       "<Figure size 720x432 with 2 Axes>"
      ]
     },
     "metadata": {
      "needs_background": "light"
     },
     "output_type": "display_data"
    }
   ],
   "source": [
    "plot_data(data,'votes')"
   ]
  },
  {
   "cell_type": "code",
   "execution_count": 331,
   "metadata": {},
   "outputs": [
    {
     "data": {
      "image/png": "[encoded data removed]",
      "text/plain": [
       "<Figure size 720x432 with 2 Axes>"
      ]
     },
     "metadata": {
      "needs_background": "light"
     },
     "output_type": "display_data"
    }
   ],
   "source": [
    "IQR = data[\"votes\"].quantile(0.75) - data[\"votes\"].quantile(0.25)\n",
    "lower_age = data['votes'].quantile(0.25) - 1.5*IQR\n",
    "upper_age = data['votes'].quantile(0.75) + 1.5*IQR\n",
    "data.loc[data['votes'] >= upper_age, 'votes'] = upper_age\n",
    "plot_data(data,'votes')\n"
   ]
  },
  {
   "cell_type": "code",
   "execution_count": 332,
   "metadata": {},
   "outputs": [
    {
     "data": {
      "text/plain": [
       "<AxesSubplot:>"
      ]
     },
     "execution_count": 332,
     "metadata": {},
     "output_type": "execute_result"
    },
    {
     "data": {
      "image/png": "[encoded data removed]",
      "text/plain": [
       "<Figure size 432x288 with 1 Axes>"
      ]
     },
     "metadata": {
      "needs_background": "light"
     },
     "output_type": "display_data"
    }
   ],
   "source": [
    "data.boxplot(['votes'])"
   ]
  },
  {
   "cell_type": "code",
   "execution_count": 337,
   "metadata": {},
   "outputs": [
    {
     "data": {
      "text/plain": [
       "0       Thành phố Hồ Chí Minh\n",
       "1       Thành phố Hồ Chí Minh\n",
       "2       Thành phố Hồ Chí Minh\n",
       "3       Thành phố Hồ Chí Minh\n",
       "4       Thành phố Hồ Chí Minh\n",
       "                ...          \n",
       "2582                 Lâm Đồng\n",
       "2583                 Lâm Đồng\n",
       "2584                 Lâm Đồng\n",
       "2587                 Lâm Đồng\n",
       "2591                 Lâm Đồng\n",
       "Name: location, Length: 2464, dtype: object"
      ]
     },
     "execution_count": 337,
     "metadata": {},
     "output_type": "execute_result"
    }
   ],
   "source": [
    "data.to_csv('cleandata.csv')\n",
    "data.location.str.split(\"Tỉnh\").map(lambda x: x[-1])\n"
   ]
  },
  {
   "cell_type": "markdown",
   "metadata": {},
   "source": [
    "# Feature Engineering"
   ]
  },
  {
   "cell_type": "markdown",
   "metadata": {},
   "source": []
  }
 ],
 "metadata": {
  "kernelspec": {
   "display_name": "Python 3.10.2 64-bit",
   "language": "python",
   "name": "python3"
  },
  "language_info": {
   "codemirror_mode": {
    "name": "ipython",
    "version": 3
   },
   "file_extension": ".py",
   "mimetype": "text/x-python",
   "name": "python",
   "nbconvert_exporter": "python",
   "pygments_lexer": "ipython3",
   "version": "3.10.2"
  },
  "orig_nbformat": 4,
  "vscode": {
   "interpreter": {
    "hash": "9805ff7d18dfb0b72269b0d5a7784bb2a4df9213fe3a7a0d13f5f6896380ad5e"
   }
  }
 },
 "nbformat": 4,
 "nbformat_minor": 2
}
