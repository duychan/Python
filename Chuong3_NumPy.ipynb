{
 "cells": [
  {
   "cell_type": "markdown",
   "metadata": {},
   "source": [
    "# Tốc độ xử lý của NumPy"
   ]
  },
  {
   "cell_type": "markdown",
   "metadata": {},
   "source": [
    "Gấp 10 đến 100 lần so với Python thuần túy"
   ]
  },
  {
   "cell_type": "code",
   "execution_count": 60,
   "metadata": {},
   "outputs": [
    {
     "name": "stdout",
     "output_type": "stream",
     "text": [
      "CPU times: user 842 ms, sys: 229 ms, total: 1.07 s\n",
      "Wall time: 1.17 s\n"
     ]
    }
   ],
   "source": [
    "my_list = list(range(1000000))\n",
    "%time for _ in range(10): my_list2 = [x * 2 for x in my_list]"
   ]
  },
  {
   "cell_type": "code",
   "execution_count": 61,
   "metadata": {},
   "outputs": [
    {
     "name": "stdout",
     "output_type": "stream",
     "text": [
      "CPU times: user 23.1 ms, sys: 11.8 ms, total: 34.9 ms\n",
      "Wall time: 49.4 ms\n"
     ]
    }
   ],
   "source": [
    "import numpy as np\n",
    "my_arr = np.arange(1000000)\n",
    "%time for _ in range(10): my_arr2 = my_arr * 2\n"
   ]
  },
  {
   "cell_type": "code",
   "execution_count": 62,
   "metadata": {},
   "outputs": [
    {
     "data": {
      "text/plain": [
       "1"
      ]
     },
     "execution_count": 62,
     "metadata": {},
     "output_type": "execute_result"
    }
   ],
   "source": [
    "my_arr[1:10]\n",
    "my_arr.shape\n",
    "my_arr.ndim"
   ]
  },
  {
   "cell_type": "markdown",
   "metadata": {},
   "source": [
    "# Mảng đa chiều (N-dimensional array object)"
   ]
  },
  {
   "cell_type": "markdown",
   "metadata": {},
   "source": [
    "NumPy cho phép thực hiện các phép toán trên mảng tương tự các phép toán trên số thực"
   ]
  },
  {
   "cell_type": "code",
   "execution_count": 63,
   "metadata": {},
   "outputs": [
    {
     "data": {
      "text/plain": [
       "array([[-0.57094628, -0.63936281]])"
      ]
     },
     "execution_count": 63,
     "metadata": {},
     "output_type": "execute_result"
    }
   ],
   "source": [
    "np.random.randn(1,2)"
   ]
  },
  {
   "cell_type": "code",
   "execution_count": 64,
   "metadata": {},
   "outputs": [],
   "source": [
    "data = np.random.randn(2, 3)"
   ]
  },
  {
   "cell_type": "code",
   "execution_count": 65,
   "metadata": {},
   "outputs": [
    {
     "data": {
      "text/plain": [
       "0.10936274268933638"
      ]
     },
     "execution_count": 65,
     "metadata": {},
     "output_type": "execute_result"
    }
   ],
   "source": [
    "data[1,2]"
   ]
  },
  {
   "cell_type": "code",
   "execution_count": 66,
   "metadata": {},
   "outputs": [
    {
     "data": {
      "text/plain": [
       "array([[-0.41396833,  0.52971563,  2.49430456],\n",
       "       [-0.31210314,  1.04509911,  0.21872549]])"
      ]
     },
     "execution_count": 66,
     "metadata": {},
     "output_type": "execute_result"
    }
   ],
   "source": [
    "data * 2"
   ]
  },
  {
   "cell_type": "code",
   "execution_count": 67,
   "metadata": {},
   "outputs": [
    {
     "data": {
      "text/plain": [
       "array([[-0.41396833,  0.52971563,  2.49430456],\n",
       "       [-0.31210314,  1.04509911,  0.21872549]])"
      ]
     },
     "execution_count": 67,
     "metadata": {},
     "output_type": "execute_result"
    }
   ],
   "source": [
    "data + data"
   ]
  },
  {
   "cell_type": "markdown",
   "metadata": {},
   "source": [
    "# Cách khởi tạo mảng trong NumPy"
   ]
  },
  {
   "cell_type": "markdown",
   "metadata": {},
   "source": [
    "Sử dụng phương thức array() để chuyển mảng trong Python qua mảng trong NumPy"
   ]
  },
  {
   "cell_type": "code",
   "execution_count": 68,
   "metadata": {},
   "outputs": [
    {
     "name": "stdout",
     "output_type": "stream",
     "text": [
      "Help on built-in function array in module numpy:\n",
      "\n",
      "array(...)\n",
      "    array(object, dtype=None, *, copy=True, order='K', subok=False, ndmin=0)\n",
      "    \n",
      "    Create an array.\n",
      "    \n",
      "    Parameters\n",
      "    ----------\n",
      "    object : array_like\n",
      "        An array, any object exposing the array interface, an object whose\n",
      "        __array__ method returns an array, or any (nested) sequence.\n",
      "    dtype : data-type, optional\n",
      "        The desired data-type for the array.  If not given, then the type will\n",
      "        be determined as the minimum type required to hold the objects in the\n",
      "        sequence.\n",
      "    copy : bool, optional\n",
      "        If true (default), then the object is copied.  Otherwise, a copy will\n",
      "        only be made if __array__ returns a copy, if obj is a nested sequence,\n",
      "        or if a copy is needed to satisfy any of the other requirements\n",
      "        (`dtype`, `order`, etc.).\n",
      "    order : {'K', 'A', 'C', 'F'}, optional\n",
      "        Specify the memory layout of the array. If object is not an array, the\n",
      "        newly created array will be in C order (row major) unless 'F' is\n",
      "        specified, in which case it will be in Fortran order (column major).\n",
      "        If object is an array the following holds.\n",
      "    \n",
      "        ===== ========= ===================================================\n",
      "        order  no copy                     copy=True\n",
      "        ===== ========= ===================================================\n",
      "        'K'   unchanged F & C order preserved, otherwise most similar order\n",
      "        'A'   unchanged F order if input is F and not C, otherwise C order\n",
      "        'C'   C order   C order\n",
      "        'F'   F order   F order\n",
      "        ===== ========= ===================================================\n",
      "    \n",
      "        When ``copy=False`` and a copy is made for other reasons, the result is\n",
      "        the same as if ``copy=True``, with some exceptions for `A`, see the\n",
      "        Notes section. The default order is 'K'.\n",
      "    subok : bool, optional\n",
      "        If True, then sub-classes will be passed-through, otherwise\n",
      "        the returned array will be forced to be a base-class array (default).\n",
      "    ndmin : int, optional\n",
      "        Specifies the minimum number of dimensions that the resulting\n",
      "        array should have.  Ones will be pre-pended to the shape as\n",
      "        needed to meet this requirement.\n",
      "    \n",
      "    Returns\n",
      "    -------\n",
      "    out : ndarray\n",
      "        An array object satisfying the specified requirements.\n",
      "    \n",
      "    See Also\n",
      "    --------\n",
      "    empty_like : Return an empty array with shape and type of input.\n",
      "    ones_like : Return an array of ones with shape and type of input.\n",
      "    zeros_like : Return an array of zeros with shape and type of input.\n",
      "    full_like : Return a new array with shape of input filled with value.\n",
      "    empty : Return a new uninitialized array.\n",
      "    ones : Return a new array setting values to one.\n",
      "    zeros : Return a new array setting values to zero.\n",
      "    full : Return a new array of given shape filled with value.\n",
      "    \n",
      "    \n",
      "    Notes\n",
      "    -----\n",
      "    When order is 'A' and `object` is an array in neither 'C' nor 'F' order,\n",
      "    and a copy is forced by a change in dtype, then the order of the result is\n",
      "    not necessarily 'C' as expected. This is likely a bug.\n",
      "    \n",
      "    Examples\n",
      "    --------\n",
      "    >>> np.array([1, 2, 3])\n",
      "    array([1, 2, 3])\n",
      "    \n",
      "    Upcasting:\n",
      "    \n",
      "    >>> np.array([1, 2, 3.0])\n",
      "    array([ 1.,  2.,  3.])\n",
      "    \n",
      "    More than one dimension:\n",
      "    \n",
      "    >>> np.array([[1, 2], [3, 4]])\n",
      "    array([[1, 2],\n",
      "           [3, 4]])\n",
      "    \n",
      "    Minimum dimensions 2:\n",
      "    \n",
      "    >>> np.array([1, 2, 3], ndmin=2)\n",
      "    array([[1, 2, 3]])\n",
      "    \n",
      "    Type provided:\n",
      "    \n",
      "    >>> np.array([1, 2, 3], dtype=complex)\n",
      "    array([ 1.+0.j,  2.+0.j,  3.+0.j])\n",
      "    \n",
      "    Data-type consisting of more than one element:\n",
      "    \n",
      "    >>> x = np.array([(1,2),(3,4)],dtype=[('a','<i4'),('b','<i4')])\n",
      "    >>> x['a']\n",
      "    array([1, 3])\n",
      "    \n",
      "    Creating an array from sub-classes:\n",
      "    \n",
      "    >>> np.array(np.mat('1 2; 3 4'))\n",
      "    array([[1, 2],\n",
      "           [3, 4]])\n",
      "    \n",
      "    >>> np.array(np.mat('1 2; 3 4'), subok=True)\n",
      "    matrix([[1, 2],\n",
      "            [3, 4]])\n",
      "\n"
     ]
    }
   ],
   "source": [
    "help(np.array)"
   ]
  },
  {
   "cell_type": "code",
   "execution_count": 69,
   "metadata": {},
   "outputs": [
    {
     "data": {
      "text/plain": [
       "array([6. , 7.5, 8. , 0. , 1. ])"
      ]
     },
     "execution_count": 69,
     "metadata": {},
     "output_type": "execute_result"
    }
   ],
   "source": [
    "data1 = [6, 7.5, 8, 0, 1]\n",
    "arr1 = np.array(data1)\n",
    "arr1"
   ]
  },
  {
   "cell_type": "code",
   "execution_count": 70,
   "metadata": {},
   "outputs": [
    {
     "data": {
      "text/plain": [
       "array([[1, 2, 3, 4],\n",
       "       [5, 6, 7, 8]])"
      ]
     },
     "execution_count": 70,
     "metadata": {},
     "output_type": "execute_result"
    }
   ],
   "source": [
    "data2 = [[1, 2, 3, 4], [5, 6, 7, 8]] \n",
    "arr2 = np.array(data2)\n",
    "arr2\n"
   ]
  },
  {
   "cell_type": "markdown",
   "metadata": {},
   "source": [
    "# Các thuộc tính của đối tượng ndarray"
   ]
  },
  {
   "cell_type": "code",
   "execution_count": 71,
   "metadata": {},
   "outputs": [
    {
     "data": {
      "text/plain": [
       "array([6. , 7.5, 8. , 0. , 1. ])"
      ]
     },
     "execution_count": 71,
     "metadata": {},
     "output_type": "execute_result"
    }
   ],
   "source": [
    "arr1"
   ]
  },
  {
   "cell_type": "code",
   "execution_count": 72,
   "metadata": {},
   "outputs": [
    {
     "data": {
      "text/plain": [
       "1"
      ]
     },
     "execution_count": 72,
     "metadata": {},
     "output_type": "execute_result"
    }
   ],
   "source": [
    "arr1.ndim"
   ]
  },
  {
   "cell_type": "code",
   "execution_count": 73,
   "metadata": {},
   "outputs": [
    {
     "data": {
      "text/plain": [
       "(5,)"
      ]
     },
     "execution_count": 73,
     "metadata": {},
     "output_type": "execute_result"
    }
   ],
   "source": [
    "arr1.shape"
   ]
  },
  {
   "cell_type": "code",
   "execution_count": 74,
   "metadata": {},
   "outputs": [
    {
     "data": {
      "text/plain": [
       "dtype('float64')"
      ]
     },
     "execution_count": 74,
     "metadata": {},
     "output_type": "execute_result"
    }
   ],
   "source": [
    "arr1.dtype"
   ]
  },
  {
   "cell_type": "code",
   "execution_count": 75,
   "metadata": {},
   "outputs": [
    {
     "data": {
      "text/plain": [
       "array([[1, 2, 3, 4],\n",
       "       [5, 6, 7, 8]])"
      ]
     },
     "execution_count": 75,
     "metadata": {},
     "output_type": "execute_result"
    }
   ],
   "source": [
    "arr2"
   ]
  },
  {
   "cell_type": "code",
   "execution_count": 76,
   "metadata": {},
   "outputs": [
    {
     "data": {
      "text/plain": [
       "2"
      ]
     },
     "execution_count": 76,
     "metadata": {},
     "output_type": "execute_result"
    }
   ],
   "source": [
    "arr2.ndim"
   ]
  },
  {
   "cell_type": "code",
   "execution_count": 77,
   "metadata": {},
   "outputs": [
    {
     "data": {
      "text/plain": [
       "(2, 4)"
      ]
     },
     "execution_count": 77,
     "metadata": {},
     "output_type": "execute_result"
    }
   ],
   "source": [
    "arr2.shape"
   ]
  },
  {
   "cell_type": "code",
   "execution_count": 78,
   "metadata": {},
   "outputs": [
    {
     "data": {
      "text/plain": [
       "dtype('int64')"
      ]
     },
     "execution_count": 78,
     "metadata": {},
     "output_type": "execute_result"
    }
   ],
   "source": [
    "arr2.dtype"
   ]
  },
  {
   "cell_type": "code",
   "execution_count": 79,
   "metadata": {},
   "outputs": [
    {
     "data": {
      "text/plain": [
       "[[1, 2, 3, 4], [5, 6, 7, 8]]"
      ]
     },
     "execution_count": 79,
     "metadata": {},
     "output_type": "execute_result"
    }
   ],
   "source": [
    "data2"
   ]
  },
  {
   "cell_type": "code",
   "execution_count": 80,
   "metadata": {},
   "outputs": [
    {
     "data": {
      "text/plain": [
       "array([[1., 2., 3., 4.],\n",
       "       [5., 6., 7., 8.]])"
      ]
     },
     "execution_count": 80,
     "metadata": {},
     "output_type": "execute_result"
    }
   ],
   "source": [
    "# tao ndarray tu data2 voi dtype=float64\n",
    "arr3 = np.array(data2, dtype=np.float64)\n",
    "arr3"
   ]
  },
  {
   "cell_type": "markdown",
   "metadata": {},
   "source": [
    "# Cách khởi tạo mảng trong NumPy"
   ]
  },
  {
   "cell_type": "markdown",
   "metadata": {},
   "source": [
    "Khởi tạo mảng đa chiều với các phần tử ‘0’"
   ]
  },
  {
   "cell_type": "code",
   "execution_count": 81,
   "metadata": {},
   "outputs": [
    {
     "data": {
      "text/plain": [
       "array([0., 0., 0., 0., 0., 0., 0., 0., 0., 0.])"
      ]
     },
     "execution_count": 81,
     "metadata": {},
     "output_type": "execute_result"
    }
   ],
   "source": [
    "np.zeros(10)"
   ]
  },
  {
   "cell_type": "code",
   "execution_count": 82,
   "metadata": {},
   "outputs": [
    {
     "data": {
      "text/plain": [
       "array([[0., 0., 0., 0.],\n",
       "       [0., 0., 0., 0.]])"
      ]
     },
     "execution_count": 82,
     "metadata": {},
     "output_type": "execute_result"
    }
   ],
   "source": [
    "np.zeros((2, 4))"
   ]
  },
  {
   "cell_type": "code",
   "execution_count": 83,
   "metadata": {},
   "outputs": [
    {
     "data": {
      "text/plain": [
       "array([[[1.36914791, 3.63704363, 0.31234918],\n",
       "        [0.20319237, 3.21009262, 1.80844997],\n",
       "        [1.72232829, 2.29580863, 1.39468194]],\n",
       "\n",
       "       [[5.49918792, 0.87243807, 2.17318488],\n",
       "        [2.22240187, 1.2578684 , 5.11736374],\n",
       "        [2.92655002, 1.51787676, 0.21358324]]])"
      ]
     },
     "execution_count": 83,
     "metadata": {},
     "output_type": "execute_result"
    }
   ],
   "source": [
    "arr4 = np.empty((2, 3, 3))\n",
    "arr4"
   ]
  },
  {
   "cell_type": "code",
   "execution_count": 84,
   "metadata": {},
   "outputs": [
    {
     "data": {
      "text/plain": [
       "array([[6. , 7.5],\n",
       "       [8. , 1. ]])"
      ]
     },
     "execution_count": 84,
     "metadata": {},
     "output_type": "execute_result"
    }
   ],
   "source": [
    "np.empty((2, 2), dtype=np.float64)"
   ]
  },
  {
   "cell_type": "code",
   "execution_count": 85,
   "metadata": {},
   "outputs": [
    {
     "data": {
      "text/plain": [
       "array([1., 2., 3.])"
      ]
     },
     "execution_count": 85,
     "metadata": {},
     "output_type": "execute_result"
    }
   ],
   "source": [
    "# type upcasting\n",
    "arr3 = np.array([1, 2, 3], dtype=np.float64)\n",
    "arr3"
   ]
  },
  {
   "cell_type": "code",
   "execution_count": 86,
   "metadata": {},
   "outputs": [
    {
     "data": {
      "text/plain": [
       "array([1, 2, 3])"
      ]
     },
     "execution_count": 86,
     "metadata": {},
     "output_type": "execute_result"
    }
   ],
   "source": [
    "# type downcasting\n",
    "arr3 = np.array([1.5, 2.9, 3.0], dtype=np.int64)\n",
    "arr3"
   ]
  },
  {
   "cell_type": "markdown",
   "metadata": {},
   "source": [
    "Kiểu dữ liệu trong NumPy"
   ]
  },
  {
   "cell_type": "code",
   "execution_count": 87,
   "metadata": {},
   "outputs": [],
   "source": [
    "numeric_strings = np.array(['1.25', '-9.6', '42'])"
   ]
  },
  {
   "cell_type": "code",
   "execution_count": 88,
   "metadata": {},
   "outputs": [
    {
     "data": {
      "text/plain": [
       "array(['1.25', '-9.6', '42'], dtype='<U4')"
      ]
     },
     "execution_count": 88,
     "metadata": {},
     "output_type": "execute_result"
    }
   ],
   "source": [
    "numeric_strings"
   ]
  },
  {
   "cell_type": "code",
   "execution_count": 89,
   "metadata": {},
   "outputs": [],
   "source": [
    "numeric_strings1 = np.array(['1.25', '-9.6', '42'], dtype=np.string_)"
   ]
  },
  {
   "cell_type": "code",
   "execution_count": 90,
   "metadata": {},
   "outputs": [
    {
     "data": {
      "text/plain": [
       "array([b'1.25', b'-9.6', b'42'], dtype='|S4')"
      ]
     },
     "execution_count": 90,
     "metadata": {},
     "output_type": "execute_result"
    }
   ],
   "source": [
    "numeric_strings1"
   ]
  },
  {
   "cell_type": "code",
   "execution_count": 90,
   "metadata": {},
   "outputs": [
    {
     "data": {
      "text/plain": [
       "array([ 1.25, -9.6 , 42.  ])"
      ]
     },
     "execution_count": 90,
     "metadata": {},
     "output_type": "execute_result"
    }
   ],
   "source": [
    "numeric_strings2 = numeric_strings1.astype(float)\n",
    "numeric_strings2"
   ]
  },
  {
   "cell_type": "markdown",
   "metadata": {},
   "source": [
    "# Toán tử vecto hoá (element-wise)"
   ]
  },
  {
   "cell_type": "markdown",
   "metadata": {},
   "source": [
    "NumPy cung cấp các toán tử để thực hiện các phép tính trên mảng mà không cần sử dụng các lệnh vòng lặp. Người dùng NumPy gọi đây là vector hóa (vectorization)."
   ]
  },
  {
   "cell_type": "code",
   "execution_count": 91,
   "metadata": {},
   "outputs": [
    {
     "name": "stdout",
     "output_type": "stream",
     "text": [
      "[[1. 2. 3.]\n",
      " [4. 5. 6.]]\n",
      "[[ 1.  4.  9.]\n",
      " [16. 25. 36.]]\n",
      "[[0. 0. 0.]\n",
      " [0. 0. 0.]]\n",
      "[[1.         0.5        0.33333333]\n",
      " [0.25       0.2        0.16666667]]\n"
     ]
    }
   ],
   "source": [
    "arr = np.array([[1., 2., 3.], [4., 5., 6.]]) \n",
    "print(arr)\n",
    "print(arr*arr)\n",
    "print(arr-arr)\n",
    "print(1/arr)"
   ]
  },
  {
   "cell_type": "code",
   "execution_count": 96,
   "metadata": {},
   "outputs": [
    {
     "name": "stdout",
     "output_type": "stream",
     "text": [
      "[[1. 2. 3.]\n",
      " [4. 5. 6.]]\n",
      "[[0. 4. 1.]\n",
      " [7. 2. 3.]]\n"
     ]
    },
    {
     "data": {
      "text/plain": [
       "array([[ True, False,  True],\n",
       "       [False,  True,  True]])"
      ]
     },
     "execution_count": 96,
     "metadata": {},
     "output_type": "execute_result"
    }
   ],
   "source": [
    "print(arr)\n",
    "arr2 = np.array([[0., 4., 1.], [7., 2., 3.]]) \n",
    "print(arr2)\n",
    "tmp = arr>arr2\n",
    "tmp"
   ]
  },
  {
   "cell_type": "markdown",
   "metadata": {},
   "source": [
    "Để thao tác với các phần tử hay các tập con trong mảng của NumPy, ta thao tác như List của Python"
   ]
  },
  {
   "cell_type": "code",
   "execution_count": 98,
   "metadata": {},
   "outputs": [
    {
     "name": "stdout",
     "output_type": "stream",
     "text": [
      "[0 1 2 3 4 5 6 7 8 9]\n",
      "5\n",
      "[5 6 7 8]\n"
     ]
    }
   ],
   "source": [
    "arr = np.arange(10) \n",
    "print(arr)\n",
    "print(arr[5]) \n",
    "print(arr[5:-1])"
   ]
  },
  {
   "cell_type": "code",
   "execution_count": 112,
   "metadata": {},
   "outputs": [
    {
     "name": "stdout",
     "output_type": "stream",
     "text": [
      "[[-1.59312692  0.36707436 -0.66364838 -0.0464924 ]\n",
      " [-0.64845515 -0.32075309  1.03343433  1.34207126]\n",
      " [ 0.2833927   0.33916721  1.57887748  0.55109705]\n",
      " [ 0.83667721 -0.0813518  -0.98181307  1.20107858]\n",
      " [-0.2266992  -2.33043475 -1.6798627  -0.09923112]\n",
      " [-0.38379966  1.10640225  0.86915695 -0.79798384]\n",
      " [ 0.81078376  0.4425251  -0.35169041 -0.30958919]]\n"
     ]
    },
    {
     "data": {
      "text/plain": [
       "array([[-0.32075309,  1.03343433,  1.34207126],\n",
       "       [ 0.33916721,  1.57887748,  0.55109705]])"
      ]
     },
     "execution_count": 112,
     "metadata": {},
     "output_type": "execute_result"
    }
   ],
   "source": [
    "data = np.random.randn(7, 4) # shape (7,4), ndim=2\n",
    "print(data)\n",
    "row3 = data[1:4] # extract 3 hang (dim 0) co chi so 1 den 3 cua data\n",
    "col3 = data[:,1:4] # extract 3 cot (dim 1) co chi so 1 den 3 cua data\n",
    "rl23 = data[1:3,1:4] # extract 2 hang 1,2 va 3 cot 1 den 3 cua data\n",
    "rl23"
   ]
  },
  {
   "cell_type": "markdown",
   "metadata": {},
   "source": [
    "Dùng mảng Boolean để tạo mảng con lấy ra từ 1 mảng khác nếu như 2 mảng có cùng chiều dài"
   ]
  },
  {
   "cell_type": "code",
   "execution_count": 119,
   "metadata": {},
   "outputs": [
    {
     "name": "stdout",
     "output_type": "stream",
     "text": [
      "['Bob' 'Joe' 'Will' 'Bob' 'Will' ' Joe' 'Joe']\n",
      "----\n",
      "[[ 1.07326399  2.40234781 -0.24702785 -0.5649236 ]\n",
      " [ 2.44851852  0.72587862  1.28405005  1.13754037]\n",
      " [-0.37414087 -0.33291561  0.26477883 -2.06435796]\n",
      " [-1.0855521   0.12675861  0.04767929  0.00472422]\n",
      " [-0.97935793  0.96546988 -2.14358902 -0.3407346 ]\n",
      " [ 0.81969206  0.93388282  0.02575212  2.28357652]\n",
      " [-0.48208844 -1.20611095 -0.14952544  1.25454495]]\n",
      "----\n",
      "[ True False False  True False False False]\n",
      "----\n"
     ]
    },
    {
     "data": {
      "text/plain": [
       "array([[ 1.07326399,  2.40234781, -0.24702785, -0.5649236 ],\n",
       "       [-1.0855521 ,  0.12675861,  0.04767929,  0.00472422]])"
      ]
     },
     "execution_count": 119,
     "metadata": {},
     "output_type": "execute_result"
    }
   ],
   "source": [
    "names = np.array(['Bob', 'Joe', 'Will', 'Bob', 'Will', ' Joe', 'Joe']) # shape (7,), ndim=1\n",
    "data = np.random.randn(7, 4) # shape (7,4), ndim=2\n",
    "print(names)\n",
    "print('----')\n",
    "print(data)\n",
    "print('----')\n",
    "bArr = (names=='Bob') # shape (7,), ndim=1\n",
    "print(bArr)\n",
    "print('----')\n",
    "# tao mang moi tu mang data gom cac hang (dim 0) co chi so tuong ung voi vị tri names='Bob'\n",
    "new_arr = data[bArr]\n",
    "new_arr"
   ]
  },
  {
   "cell_type": "code",
   "execution_count": 120,
   "metadata": {},
   "outputs": [
    {
     "name": "stdout",
     "output_type": "stream",
     "text": [
      "['Bob' 'Joe' 'Will' 'Bob']\n",
      "[[ 0.19480759  1.1170717  -0.49005068 -1.00409384]\n",
      " [-0.48667153 -1.48944268  0.79132013 -1.12682358]\n",
      " [-1.7339251   0.91453725  0.96692051 -0.1037882 ]\n",
      " [-0.05424126 -0.72040116  1.7167484  -0.72562403]\n",
      " [-1.00043868  0.10577565  0.05390387 -0.11301861]\n",
      " [-0.48052778  0.67136122 -0.8586809   0.10648897]\n",
      " [ 0.635065   -0.1201173  -1.92080774 -2.3002476 ]]\n",
      "[ True False False  True]\n"
     ]
    },
    {
     "data": {
      "text/plain": [
       "array([[ 0.19480759, -1.00409384],\n",
       "       [-0.48667153, -1.12682358],\n",
       "       [-1.7339251 , -0.1037882 ],\n",
       "       [-0.05424126, -0.72562403],\n",
       "       [-1.00043868, -0.11301861],\n",
       "       [-0.48052778,  0.10648897],\n",
       "       [ 0.635065  , -2.3002476 ]])"
      ]
     },
     "execution_count": 120,
     "metadata": {},
     "output_type": "execute_result"
    }
   ],
   "source": [
    "names = np.array(['Bob', 'Joe', 'Will', 'Bob'])\n",
    "data = np.random.randn(7, 4) \n",
    "print(names)\n",
    "print(data)\n",
    "bArr = (names=='Bob')\n",
    "print(bArr)\n",
    "# tao mang moi tu mang data gom cac cot (dim 1) co chi so tuong ung voi vị tri names='Bob'\n",
    "new_arr = data[:,bArr]\n",
    "new_arr"
   ]
  },
  {
   "cell_type": "code",
   "execution_count": 122,
   "metadata": {},
   "outputs": [
    {
     "name": "stdout",
     "output_type": "stream",
     "text": [
      "[[ 0.19480759  1.1170717  -0.49005068 -1.00409384]\n",
      " [-0.48667153 -1.48944268  0.79132013 -1.12682358]\n",
      " [-1.7339251   0.91453725  0.96692051 -0.1037882 ]\n",
      " [-0.05424126 -0.72040116  1.7167484  -0.72562403]\n",
      " [-1.00043868  0.10577565  0.05390387 -0.11301861]\n",
      " [-0.48052778  0.67136122 -0.8586809   0.10648897]\n",
      " [ 0.635065   -0.1201173  -1.92080774 -2.3002476 ]]\n"
     ]
    },
    {
     "data": {
      "text/plain": [
       "array([[-0.49005068, -1.00409384],\n",
       "       [ 1.7167484 , -0.72562403]])"
      ]
     },
     "execution_count": 122,
     "metadata": {},
     "output_type": "execute_result"
    }
   ],
   "source": [
    "names = np.array(['Bob', 'Joe', 'Will', 'Bob', 'Will', ' Joe', 'Joe']) # shape (7,), ndim=1\n",
    "print(data)\n",
    "data[names == 'Bob', 2:]"
   ]
  },
  {
   "cell_type": "code",
   "execution_count": 123,
   "metadata": {},
   "outputs": [
    {
     "name": "stdout",
     "output_type": "stream",
     "text": [
      "[-1.00409384 -0.72562403]\n",
      "(2,)\n",
      "1\n"
     ]
    }
   ],
   "source": [
    "tmp = data[names == 'Bob', 3]\n",
    "print(tmp)\n",
    "print(tmp.shape)\n",
    "print(tmp.ndim)"
   ]
  },
  {
   "cell_type": "code",
   "execution_count": 115,
   "metadata": {},
   "outputs": [
    {
     "name": "stdout",
     "output_type": "stream",
     "text": [
      "[[-0.56064414]\n",
      " [ 0.0575538 ]]\n",
      "(2, 1)\n",
      "2\n"
     ]
    }
   ],
   "source": [
    "# tuy nhien\n",
    "tmp = data[names == 'Bob', 3:4]\n",
    "print(tmp)\n",
    "print(tmp.shape)\n",
    "print(tmp.ndim)"
   ]
  },
  {
   "cell_type": "code",
   "execution_count": 114,
   "metadata": {},
   "outputs": [
    {
     "data": {
      "text/plain": [
       "(2,)"
      ]
     },
     "execution_count": 114,
     "metadata": {},
     "output_type": "execute_result"
    }
   ],
   "source": [
    "tmp.shape"
   ]
  },
  {
   "cell_type": "code",
   "execution_count": 124,
   "metadata": {},
   "outputs": [
    {
     "data": {
      "text/plain": [
       "array([[False, False,  True,  True],\n",
       "       [ True,  True, False,  True],\n",
       "       [ True, False, False,  True],\n",
       "       [ True,  True, False,  True],\n",
       "       [ True, False, False,  True],\n",
       "       [ True, False,  True, False],\n",
       "       [False,  True,  True,  True]])"
      ]
     },
     "execution_count": 124,
     "metadata": {},
     "output_type": "execute_result"
    }
   ],
   "source": [
    "data < 0"
   ]
  },
  {
   "cell_type": "code",
   "execution_count": 117,
   "metadata": {},
   "outputs": [
    {
     "name": "stdout",
     "output_type": "stream",
     "text": [
      "[[ 1.01877829  0.82616959 -0.93350126 -0.56064414]\n",
      " [-0.35029027  0.78344508  2.10992952 -0.10712143]\n",
      " [ 0.32193369  0.59530245 -0.53178139 -2.02309498]\n",
      " [-0.03459249 -0.7323536   0.54517855  0.0575538 ]\n",
      " [ 0.93679149  0.28060197 -1.2229251  -1.1334753 ]\n",
      " [-1.05767781 -0.6536159  -0.76183843  0.43448742]\n",
      " [ 1.36836894  2.02029875  0.29357661 -1.60249456]]\n",
      "[[1.01877829 0.82616959 0.         0.        ]\n",
      " [0.         0.78344508 2.10992952 0.        ]\n",
      " [0.32193369 0.59530245 0.         0.        ]\n",
      " [0.         0.         0.54517855 0.0575538 ]\n",
      " [0.93679149 0.28060197 0.         0.        ]\n",
      " [0.         0.         0.         0.43448742]\n",
      " [1.36836894 2.02029875 0.29357661 0.        ]]\n"
     ]
    }
   ],
   "source": [
    "print(data)\n",
    "data[data<0] = 0 # gan cac phan tu < 0 bang 0\n",
    "print(data)"
   ]
  },
  {
   "cell_type": "markdown",
   "metadata": {},
   "source": [
    "# Fancy Indexing\n",
    "\n",
    "NumPy cho phép tạo 1 mảng con theo chỉ mục cho trước"
   ]
  },
  {
   "cell_type": "code",
   "execution_count": 126,
   "metadata": {},
   "outputs": [
    {
     "name": "stdout",
     "output_type": "stream",
     "text": [
      "['Tuan' 'Phuong' 'Khoi' 'Hieu' 'Duy' 'Thang' 'Duc']\n",
      "['Tuan' 'Thang' 'Duy']\n"
     ]
    }
   ],
   "source": [
    "names = np.array(['Tuan', 'Phuong', 'Khoi', 'Hieu', 'Duy' , 'Thang', 'Duc'])\n",
    "print(names)\n",
    "# tao mang moi tu mang names gom cac ptu co index 0,5,4 cua dim0\n",
    "print(names[[0,5,4]])"
   ]
  },
  {
   "cell_type": "code",
   "execution_count": 125,
   "metadata": {},
   "outputs": [
    {
     "data": {
      "text/plain": [
       "array([[ 0.19480759,  1.1170717 , -0.49005068, -1.00409384],\n",
       "       [-0.48667153, -1.48944268,  0.79132013, -1.12682358],\n",
       "       [-1.7339251 ,  0.91453725,  0.96692051, -0.1037882 ],\n",
       "       [-0.05424126, -0.72040116,  1.7167484 , -0.72562403],\n",
       "       [-1.00043868,  0.10577565,  0.05390387, -0.11301861],\n",
       "       [-0.48052778,  0.67136122, -0.8586809 ,  0.10648897],\n",
       "       [ 0.635065  , -0.1201173 , -1.92080774, -2.3002476 ]])"
      ]
     },
     "execution_count": 125,
     "metadata": {},
     "output_type": "execute_result"
    }
   ],
   "source": [
    "data"
   ]
  },
  {
   "cell_type": "code",
   "execution_count": 132,
   "metadata": {},
   "outputs": [
    {
     "name": "stdout",
     "output_type": "stream",
     "text": [
      "[[ 0.19480759  1.1170717  -0.49005068 -1.00409384]\n",
      " [-0.48667153 -1.48944268  0.79132013 -1.12682358]\n",
      " [-1.7339251   0.91453725  0.96692051 -0.1037882 ]\n",
      " [-0.05424126 -0.72040116  1.7167484  -0.72562403]\n",
      " [-1.00043868  0.10577565  0.05390387 -0.11301861]\n",
      " [-0.48052778  0.67136122 -0.8586809   0.10648897]\n",
      " [ 0.635065   -0.1201173  -1.92080774 -2.3002476 ]]\n",
      "----\n",
      "[[-1.00409384  0.19480759]\n",
      " [-1.12682358 -0.48667153]\n",
      " [-0.1037882  -1.7339251 ]\n",
      " [-0.72562403 -0.05424126]\n",
      " [-0.11301861 -1.00043868]\n",
      " [ 0.10648897 -0.48052778]\n",
      " [-2.3002476   0.635065  ]]\n",
      "----\n"
     ]
    },
    {
     "data": {
      "text/plain": [
       "(7, 2)"
      ]
     },
     "execution_count": 132,
     "metadata": {},
     "output_type": "execute_result"
    }
   ],
   "source": [
    "print(data)\n",
    "print('----')\n",
    "tmp = data[:,[3,0]] # lay ra cot 3 va cot 0\n",
    "print(tmp)\n",
    "print('----')\n",
    "tmp.shape"
   ]
  },
  {
   "cell_type": "code",
   "execution_count": 133,
   "metadata": {},
   "outputs": [
    {
     "name": "stdout",
     "output_type": "stream",
     "text": [
      "[[ 0.19480759  1.1170717  -0.49005068 -1.00409384]\n",
      " [-0.48667153 -1.48944268  0.79132013 -1.12682358]\n",
      " [-1.7339251   0.91453725  0.96692051 -0.1037882 ]\n",
      " [-0.05424126 -0.72040116  1.7167484  -0.72562403]\n",
      " [-1.00043868  0.10577565  0.05390387 -0.11301861]\n",
      " [-0.48052778  0.67136122 -0.8586809   0.10648897]\n",
      " [ 0.635065   -0.1201173  -1.92080774 -2.3002476 ]]\n",
      "----\n",
      "[ 0.19480759 -1.48944268  0.96692051 -0.72562403]\n",
      "----\n"
     ]
    },
    {
     "data": {
      "text/plain": [
       "(4,)"
      ]
     },
     "execution_count": 133,
     "metadata": {},
     "output_type": "execute_result"
    }
   ],
   "source": [
    "print(data)\n",
    "print('----')\n",
    "tmp = data[[0,1,2,3],[0,1,2,3]] # lay ra data[0,0], data[1,1],...\n",
    "print(tmp)\n",
    "print('----')\n",
    "tmp.shape"
   ]
  },
  {
   "cell_type": "code",
   "execution_count": 135,
   "metadata": {},
   "outputs": [
    {
     "data": {
      "text/plain": [
       "array([[ 0,  1,  2,  3],\n",
       "       [ 4,  5,  6,  7],\n",
       "       [ 8,  9, 10, 11],\n",
       "       [12, 13, 14, 15],\n",
       "       [16, 17, 18, 19],\n",
       "       [20, 21, 22, 23],\n",
       "       [24, 25, 26, 27],\n",
       "       [28, 29, 30, 31]])"
      ]
     },
     "execution_count": 135,
     "metadata": {},
     "output_type": "execute_result"
    }
   ],
   "source": [
    "# chuyen array 1x32 thanh arr 8x4\n",
    "arr = np.arange(32).reshape((8, 4))\n",
    "arr"
   ]
  },
  {
   "cell_type": "code",
   "execution_count": 137,
   "metadata": {},
   "outputs": [
    {
     "name": "stdout",
     "output_type": "stream",
     "text": [
      "[[ 4  5  6  7]\n",
      " [20 21 22 23]\n",
      " [28 29 30 31]\n",
      " [ 8  9 10 11]]\n",
      "\n",
      "[[ 4  5  6  7]\n",
      " [20 21 22 23]\n",
      " [28 29 30 31]\n",
      " [ 8  9 10 11]]\n",
      "[[ 4  7]\n",
      " [20 23]\n",
      " [28 31]\n",
      " [ 8 11]]\n",
      "[[ 4  7]\n",
      " [20 23]\n",
      " [28 31]\n",
      " [ 8 11]]\n"
     ]
    }
   ],
   "source": [
    "print(arr[[1, 5, 7, 2]]) # lay 4 hang 1,5,7,2\n",
    "print()\n",
    "print(arr[[1, 5, 7, 2]] [:, :]) # lay 4 hang 1,5,7,2 va tat ca cot\n",
    "print(arr[[1, 5, 7, 2]] [:, [0, 3]]) # lay 4 hang 1,5,7,2 va cot 0, 3\n",
    "print(arr[:,[0,3]] [[1, 5, 7, 2]]) # lay 4 hang 1,5,7,2 va cot 0, 3"
   ]
  },
  {
   "cell_type": "markdown",
   "metadata": {},
   "source": [
    "Ma trận chuyển vị"
   ]
  },
  {
   "cell_type": "code",
   "execution_count": 200,
   "metadata": {},
   "outputs": [
    {
     "data": {
      "text/plain": [
       "array([[ 0,  1,  2,  3],\n",
       "       [ 4,  5,  6,  7],\n",
       "       [ 8,  9, 10, 11],\n",
       "       [12, 13, 14, 15],\n",
       "       [16, 17, 18, 19],\n",
       "       [20, 21, 22, 23],\n",
       "       [24, 25, 26, 27],\n",
       "       [28, 29, 30, 31]])"
      ]
     },
     "execution_count": 200,
     "metadata": {},
     "output_type": "execute_result"
    }
   ],
   "source": [
    "arr"
   ]
  },
  {
   "cell_type": "code",
   "execution_count": 201,
   "metadata": {},
   "outputs": [
    {
     "data": {
      "text/plain": [
       "array([[ 0,  4,  8, 12, 16, 20, 24, 28],\n",
       "       [ 1,  5,  9, 13, 17, 21, 25, 29],\n",
       "       [ 2,  6, 10, 14, 18, 22, 26, 30],\n",
       "       [ 3,  7, 11, 15, 19, 23, 27, 31]])"
      ]
     },
     "execution_count": 201,
     "metadata": {},
     "output_type": "execute_result"
    }
   ],
   "source": [
    "arr.T"
   ]
  },
  {
   "cell_type": "code",
   "execution_count": 202,
   "metadata": {},
   "outputs": [
    {
     "data": {
      "text/plain": [
       "array([[ 0,  4,  8, 12, 16, 20, 24, 28],\n",
       "       [ 1,  5,  9, 13, 17, 21, 25, 29],\n",
       "       [ 2,  6, 10, 14, 18, 22, 26, 30],\n",
       "       [ 3,  7, 11, 15, 19, 23, 27, 31]])"
      ]
     },
     "execution_count": 202,
     "metadata": {},
     "output_type": "execute_result"
    }
   ],
   "source": [
    "arr.transpose()"
   ]
  },
  {
   "cell_type": "code",
   "execution_count": 138,
   "metadata": {},
   "outputs": [
    {
     "name": "stdout",
     "output_type": "stream",
     "text": [
      "[[ 0  1  2  3  4  5  6  7]\n",
      " [ 8  9 10 11 12 13 14 15]]\n",
      "-----\n",
      "[[ 0  8]\n",
      " [ 1  9]\n",
      " [ 2 10]\n",
      " [ 3 11]\n",
      " [ 4 12]\n",
      " [ 5 13]\n",
      " [ 6 14]\n",
      " [ 7 15]]\n",
      "-----\n",
      "[[ 0  8]\n",
      " [ 1  9]\n",
      " [ 2 10]\n",
      " [ 3 11]\n",
      " [ 4 12]\n",
      " [ 5 13]\n",
      " [ 6 14]\n",
      " [ 7 15]]\n",
      "-----\n",
      "[[ 0  8]\n",
      " [ 1  9]\n",
      " [ 2 10]\n",
      " [ 3 11]\n",
      " [ 4 12]\n",
      " [ 5 13]\n",
      " [ 6 14]\n",
      " [ 7 15]]\n"
     ]
    }
   ],
   "source": [
    "arr = np.arange(16).reshape((2, 8))\n",
    "print(arr)\n",
    "print('-----')\n",
    "print(arr.T)\n",
    "print('-----')\n",
    "print(arr.transpose())\n",
    "print('-----')\n",
    "print(arr.swapaxes(0, 1))"
   ]
  },
  {
   "cell_type": "code",
   "execution_count": 151,
   "metadata": {},
   "outputs": [
    {
     "data": {
      "text/plain": [
       "array([[ True,  True,  True,  True,  True,  True,  True,  True],\n",
       "       [ True,  True,  True,  True,  True,  True,  True,  True]])"
      ]
     },
     "execution_count": 151,
     "metadata": {},
     "output_type": "execute_result"
    }
   ],
   "source": [
    "arr1 = np.arange(16).reshape((2, 8))\n",
    "arr2 = np.arange(16).reshape((2, 8))\n",
    "arr_sum1 = arr1 + arr2\n",
    "arr_sum2 = np.add(arr1,arr2)\n",
    "arr_sum1 == arr_sum2"
   ]
  },
  {
   "cell_type": "code",
   "execution_count": 155,
   "metadata": {},
   "outputs": [
    {
     "name": "stdout",
     "output_type": "stream",
     "text": [
      "[4.17022005e-01 7.20324493e-01 1.14374817e-04 3.02332573e-01]\n",
      "[0.5488135  0.71518937 0.60276338 0.54488318]\n",
      "[4.17022005e-01 7.20324493e-01 1.14374817e-04 3.02332573e-01]\n"
     ]
    }
   ],
   "source": [
    "np.random.seed(1)\n",
    "x = np.random.rand(4)\n",
    "print(x)\n",
    "np.random.seed(0)\n",
    "x = np.random.rand(4)\n",
    "print(x)\n",
    "np.random.seed(1)\n",
    "x = np.random.rand(4)\n",
    "print(x)"
   ]
  },
  {
   "cell_type": "code",
   "execution_count": 156,
   "metadata": {},
   "outputs": [
    {
     "name": "stdout",
     "output_type": "stream",
     "text": [
      "key  1 co value la Tran A dc zip voi a\n",
      "key  chuoi co value la vang dc zip voi b\n",
      "key  3.14 co value la pi dc zip voi c\n",
      "key  NNLT co value la python dc zip voi d\n"
     ]
    }
   ],
   "source": [
    "mydict = {1: 'Tran A', 'chuoi': 'vang', 3.14: 'pi', \"NNLT\": 'python'}\n",
    "mylist2 = ['a','b','c','d','e']\n",
    "z = zip(mydict,mylist2)\n",
    "for l1, l2 in z:\n",
    "    print('key ', l1, 'co value la', mydict[l1], 'dc zip voi', l2)"
   ]
  },
  {
   "cell_type": "code",
   "execution_count": 151,
   "metadata": {},
   "outputs": [
    {
     "name": "stdout",
     "output_type": "stream",
     "text": [
      "[[3.76352626 0.72588267]\n",
      " [0.72588267 0.4979884 ]]\n",
      "[[ 0.36962316 -0.53877369]\n",
      " [-0.53877369  2.79341141]]\n",
      "[[1.00000000e+00 9.73694331e-17]\n",
      " [4.51784418e-17 1.00000000e+00]]\n"
     ]
    }
   ],
   "source": [
    "from numpy.linalg import inv\n",
    "X = np.random.randn(2, 2)\n",
    "mat = X.T.dot(X)\n",
    "print(mat)\n",
    "print(inv(mat))\n",
    "print(mat.dot(inv(mat)))"
   ]
  }
 ],
 "metadata": {
  "kernelspec": {
   "display_name": "Python 3",
   "language": "python",
   "name": "python3"
  },
  "language_info": {
   "codemirror_mode": {
    "name": "ipython",
    "version": 3
   },
   "file_extension": ".py",
   "mimetype": "text/x-python",
   "name": "python",
   "nbconvert_exporter": "python",
   "pygments_lexer": "ipython3",
   "version": "3.10.2"
  }
 },
 "nbformat": 4,
 "nbformat_minor": 4
}
